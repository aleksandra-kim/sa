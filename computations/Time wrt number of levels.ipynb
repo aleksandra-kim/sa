{
 "cells": [
  {
   "cell_type": "markdown",
   "metadata": {},
   "source": [
    "# Time wrt number of levels"
   ]
  },
  {
   "cell_type": "markdown",
   "metadata": {},
   "source": [
    "## Problem statement"
   ]
  },
  {
   "cell_type": "code",
   "execution_count": null,
   "metadata": {},
   "outputs": [],
   "source": [
    "import numpy as np\n",
    "import time\n",
    "from SALib.sample import morris\n",
    "import matplotlib.pyplot as plt"
   ]
  },
  {
   "cell_type": "code",
   "execution_count": 2,
   "metadata": {},
   "outputs": [],
   "source": [
    "n_vars = 1000\n",
    "n_tra  = 1\n",
    "\n",
    "names = [str(i) for i in range(n_vars)]\n",
    "bounds = np.array([np.zeros(n_vars),np.ones(n_vars)]).T\n",
    "\n",
    "problem = {\n",
    "    'num_vars':   n_vars,\n",
    "    'names':      names,\n",
    "    'bounds':     bounds,\n",
    "    'num_tra':    n_tra\n",
    "}"
   ]
  },
  {
   "cell_type": "code",
   "execution_count": 3,
   "metadata": {},
   "outputs": [],
   "source": [
    "#Generate trajectories, algorithm from Chris\n",
    "\n",
    "def generate_trajectory_2(num_parameters, levels=4, lower=0, upper=1):\n",
    "    \"\"\"\n",
    "    Generate a trajectory for ``num_parameters``.\n",
    "    \n",
    "    Returns an array where the rows are steps in the trajectory, \n",
    "    and the columns are coordinates for each parameter. \n",
    "    \n",
    "    The resulting array therefore has dimensions (num_parameters + 1, num_parameters).\n",
    "    \"\"\"\n",
    "    \n",
    "    pa = np.tile(np.linspace(lower, upper, levels), num_parameters).reshape((num_parameters, levels))\n",
    "    starting_indices = np.random.randint(0, high=levels - 1, size=num_parameters)\n",
    "    start = pa[np.arange(num_parameters), starting_indices]\n",
    "    end = pa[np.arange(num_parameters), starting_indices - int(levels / 2)]\n",
    "    order = np.random.permutation(np.arange(num_parameters)).reshape((1, -1))\n",
    "    indices = np.arange(num_parameters + 1).reshape((-1, 1))\n",
    "    \n",
    "    start_dense = np.tile(start, num_parameters + 1).reshape((-1, num_parameters))\n",
    "    end_dense = np.tile(end, num_parameters + 1).reshape((-1, num_parameters))\n",
    "    \n",
    "    mask = indices > order\n",
    "    start_dense[mask] = end_dense[mask]\n",
    "\n",
    "    return start_dense"
   ]
  },
  {
   "cell_type": "code",
   "execution_count": 4,
   "metadata": {},
   "outputs": [],
   "source": [
    "#Compute time needed to generate trajectories\n",
    "def compute_rtime(problem, alg, num_p):\n",
    "    \n",
    "    n_tra  = problem['num_tra']\n",
    "    n_vars = problem['num_vars']\n",
    "    \n",
    "    try:\n",
    "        running_time = np.zeros(len(num_p))\n",
    "    except TypeError:\n",
    "        running_time = 0\n",
    "\n",
    "    i = 0\n",
    "    \n",
    "    \n",
    "    if alg == \"Chris\":\n",
    "        for p in num_p:\n",
    "            t1 = time.time()\n",
    "            samples = np.array([generate_trajectory_2(n_vars, levels=p) for n in range(n_tra)])\n",
    "            t2 = time.time()\n",
    "            running_time[i] = t2-t1\n",
    "            i += 1\n",
    "    elif alg == \"salib\":\n",
    "        for p in num_p:\n",
    "            t1 = time.time()\n",
    "            samples = morris.sample(problem, n_tra, num_levels=p)\n",
    "            t2 = time.time()\n",
    "            running_time[i] = t2-t1\n",
    "            i += 1\n",
    "    return running_time"
   ]
  },
  {
   "cell_type": "markdown",
   "metadata": {},
   "source": [
    "## Define number of levels"
   ]
  },
  {
   "cell_type": "code",
   "execution_count": 5,
   "metadata": {},
   "outputs": [],
   "source": [
    "start = 100\n",
    "end = 10000\n",
    "step = 100\n",
    "num_p = np.arange(start, end, step)"
   ]
  },
  {
   "cell_type": "markdown",
   "metadata": {},
   "source": [
    "## Implementation Chris"
   ]
  },
  {
   "cell_type": "code",
   "execution_count": 6,
   "metadata": {},
   "outputs": [],
   "source": [
    "#Generate trajectories\n",
    "running_time_1 = compute_rtime(problem,'Chris',num_p)"
   ]
  },
  {
   "cell_type": "markdown",
   "metadata": {},
   "source": [
    "## Implementation SALib"
   ]
  },
  {
   "cell_type": "code",
   "execution_count": 7,
   "metadata": {},
   "outputs": [],
   "source": [
    "#Generate trajectories\n",
    "running_time_2 = compute_rtime(problem,'salib',num_p)"
   ]
  },
  {
   "cell_type": "markdown",
   "metadata": {},
   "source": [
    "# Plot"
   ]
  },
  {
   "cell_type": "code",
   "execution_count": 8,
   "metadata": {},
   "outputs": [],
   "source": [
    "#Plot results\n",
    "def plot_time(num_p,running_time,alg):\n",
    "    #Plotting\n",
    "    plt.figure(figsize=(5,5))\n",
    "    plt.plot(num_p,running_time,'o',markersize=10)\n",
    "\n",
    "    plt.tick_params(axis='x',which='both',labelsize=20)\n",
    "    plt.tick_params(axis='y',which='both',labelsize=20)\n",
    "    plt.xlabel('Number of levels',fontsize=25)\n",
    "    plt.ylabel('Time, [s]',fontsize=25)\n",
    "    plt.grid(True)\n",
    "    plt.locator_params(axis='x', nbins=4)\n",
    "    plt.title(alg,fontsize=30)\n",
    "\n",
    "    plt.show()"
   ]
  },
  {
   "cell_type": "code",
   "execution_count": 9,
   "metadata": {},
   "outputs": [
    {
     "data": {
      "image/png": "[encoded data removed]",
      "text/plain": [
       "<Figure size 360x360 with 1 Axes>"
      ]
     },
     "metadata": {
      "needs_background": "light"
     },
     "output_type": "display_data"
    }
   ],
   "source": [
    "plot_time(num_p,running_time_1,'Chris')"
   ]
  },
  {
   "cell_type": "code",
   "execution_count": 10,
   "metadata": {},
   "outputs": [
    {
     "data": {
      "image/png": "[encoded data removed]",
      "text/plain": [
       "<Figure size 360x360 with 1 Axes>"
      ]
     },
     "metadata": {
      "needs_background": "light"
     },
     "output_type": "display_data"
    }
   ],
   "source": [
    "plot_time(num_p,running_time_2,'SALib')"
   ]
  },
  {
   "cell_type": "code",
   "execution_count": null,
   "metadata": {},
   "outputs": [],
   "source": []
  },
  {
   "cell_type": "code",
   "execution_count": null,
   "metadata": {},
   "outputs": [],
   "source": []
  }
 ],
 "metadata": {
  "kernelspec": {
   "display_name": "Python 3",
   "language": "python",
   "name": "python3"
  },
  "language_info": {
   "codemirror_mode": {
    "name": "ipython",
    "version": 3
   },
   "file_extension": ".py",
   "mimetype": "text/x-python",
   "name": "python",
   "nbconvert_exporter": "python",
   "pygments_lexer": "ipython3",
   "version": "3.6.7"
  }
 },
 "nbformat": 4,
 "nbformat_minor": 2
}
