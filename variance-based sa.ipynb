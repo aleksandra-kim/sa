{
 "cells": [
  {
   "cell_type": "code",
   "execution_count": 9,
   "metadata": {},
   "outputs": [],
   "source": [
    "import numpy as np\n",
    "import numpy.random as rd\n",
    "\n",
    "import SALib.sample.saltelli as saltelli\n",
    "import SALib.analyze.sobol as sobol\n",
    "import SALib as sa\n",
    "\n",
    "import matplotlib.pyplot as plt"
   ]
  },
  {
   "cell_type": "markdown",
   "metadata": {},
   "source": [
    "# Monte Carlo simulations for total index"
   ]
  },
  {
   "cell_type": "code",
   "execution_count": 10,
   "metadata": {},
   "outputs": [],
   "source": [
    "def jansen_estimator(A,B,f):\n",
    "    #i - total index for i-th element computed by Jansen estimator\n",
    "    N = A.shape[0] # number of samples\n",
    "    Vt = np.zeros(n_vars)\n",
    "    for i in range(n_vars):\n",
    "        A_B = np.hstack((A[:,:i],B[:,i].reshape(N,1),A[:,i+1:]))\n",
    "        for j in range(N):\n",
    "            Vt[i] = Vt[i] + ( f(A[j])-f(A_B[j]) )**2\n",
    "    Vt = Vt/2/N\n",
    "    return Vt"
   ]
  },
  {
   "cell_type": "markdown",
   "metadata": {},
   "source": [
    "# Test case 1: Sobol G function"
   ]
  },
  {
   "cell_type": "code",
   "execution_count": 11,
   "metadata": {},
   "outputs": [],
   "source": [
    "#Different versions of the Sobol function\n",
    "def sobol_g_star_prod(a,alpha,delta,x):\n",
    "    n = len(a)\n",
    "    sobol_g_star = 1\n",
    "    xdelta = [x[i]+delta[i] - int(x[i]+delta[i]) for i in range(n)]\n",
    "    for i in range(n):\n",
    "        sobol_g_star = sobol_g_star * ((1+alpha[i])*abs(2*xdelta[i]-1)**alpha[i] + a[i])/(1+a[i])\n",
    "    return sobol_g_star\n",
    "\n",
    "def sobol_g_prod(a,x):\n",
    "    n = a.shape[0]\n",
    "    sobol_g = 1\n",
    "    for i in range(n):\n",
    "        sobol_g = sobol_g * (abs(4*x[i]-2)+a[i])/(1+a[i])   \n",
    "    return sobol_g\n",
    "\n",
    "#This one is for testing\n",
    "def simple_g(a):\n",
    "    g = 1\n",
    "    for i in range(len(a)):\n",
    "        g = g * (2+a[i])/(1+a[i])    \n",
    "    return g\n",
    "\n",
    "#stress test to check implementation of sobol_g_star_prod\n",
    "#when alpha = 1 and delta = 0, sobol_g_star_prod becomes sobol_g_prod\n",
    "# while True:\n",
    "#     a = rd.rand(n_vars)*10\n",
    "#     x = rd.rand(n_vars)\n",
    "#     res1 = sobol_g_star_prod(a,alpha,x)\n",
    "#     res2 = sobol_g_prod(a,x)\n",
    "#     print(str(res1)+' '+str(res2)+' all good')\n",
    "#     if res1 != res2:\n",
    "#         print('not correct')\n",
    "#         print(a)\n",
    "#         print(x)\n",
    "#         break"
   ]
  },
  {
   "cell_type": "code",
   "execution_count": 12,
   "metadata": {},
   "outputs": [],
   "source": [
    "N = 200 #number of samples in MC\n",
    "\n",
    "#Specify function parameters\n",
    "n_vars = 10\n",
    "delta = rd.rand(n_vars)\n",
    "\n",
    "#Choose case for a and alpha\n",
    "case = 1\n",
    "\n",
    "if case==1:\n",
    "    alpha = np.ones(n_vars)\n",
    "    a = [0,0,9,9,9,9,9,9,9,9]\n",
    "elif case==2:\n",
    "    alpha = np.ones(n_vars)\n",
    "    a = [0,0.1,0.2,0.3,0.4,0.8,1,2,3,4]\n",
    "elif case==3:\n",
    "    alpha = 0.5*np.ones(n_vars)\n",
    "    a = [0,0,9,9,9,9,9,9,9,9]\n",
    "elif case==4:\n",
    "    alpha = 0.5*np.ones(n_vars)\n",
    "    a = [0,0.1,0.2,0.3,0.4,0.8,1,2,3,4]\n",
    "elif case==5:\n",
    "    alpha = 2*np.ones(n_vars)\n",
    "    a = [0,0,9,9,9,9,9,9,9,9]\n",
    "elif case==6:\n",
    "    alpha = 2*np.ones(n_vars)\n",
    "    a = [0,0.1,0.2,0.3,0.4,0.8,1,2,3,4]\n",
    "\n",
    "\n",
    "def f(x):\n",
    "    return sobol_g_star_prod(a,alpha,delta,x)"
   ]
  },
  {
   "cell_type": "markdown",
   "metadata": {},
   "source": [
    "### 1. Variances from analytical solution"
   ]
  },
  {
   "cell_type": "code",
   "execution_count": 13,
   "metadata": {},
   "outputs": [],
   "source": [
    "def v_analytical(a,alpha):\n",
    "    return [ alpha[i]**2/(1+2*alpha[i])/(1+a[i])**2  for i in range(len(a))]\n",
    "\n",
    "Vt_an = v_analytical(a,alpha)"
   ]
  },
  {
   "cell_type": "markdown",
   "metadata": {},
   "source": [
    "### 2. Variances from MC simulations"
   ]
  },
  {
   "cell_type": "code",
   "execution_count": 14,
   "metadata": {},
   "outputs": [
    {
     "data": {
      "text/plain": [
       "200"
      ]
     },
     "execution_count": 14,
     "metadata": {},
     "output_type": "execute_result"
    }
   ],
   "source": [
    "samples = sa.sample.sobol_sequence.sample(N,2*n_vars)\n",
    "A,B = samples[:,:n_vars],samples[:,n_vars:] \n",
    "\n",
    "Vt_mc = jansen_estimator(A,B,f)\n",
    "y_mc = np.array([f(samples[i]) for i in range(samples.shape[0])])\n",
    "len(y_mc)"
   ]
  },
  {
   "cell_type": "markdown",
   "metadata": {},
   "source": [
    "### 3. SALib results"
   ]
  },
  {
   "cell_type": "code",
   "execution_count": null,
   "metadata": {},
   "outputs": [],
   "source": [
    "N = 2000\n",
    "names  = [_+str(i) for _ in ['a'] for i in range(n_vars)]\n",
    "bounds = [[0,1] for _ in range(n_vars)]\n",
    "\n",
    "problem = {\n",
    "    'num_vars': n_vars,\n",
    "    'names':    names,\n",
    "    'bounds':   bounds\n",
    "}\n",
    "\n",
    "samples = saltelli.sample(problem, N, calc_second_order=False)\n",
    "y_sa = np.array([f(samples[i]) for i in range(samples.shape[0])])\n",
    "sa_results = sobol.analyze(problem, y, calc_second_order=False)\n",
    "len(y_sa)"
   ]
  },
  {
   "cell_type": "code",
   "execution_count": 17,
   "metadata": {},
   "outputs": [],
   "source": [
    "sobol."
   ]
  },
  {
   "cell_type": "markdown",
   "metadata": {},
   "source": [
    "### 4. Print variances for comparison"
   ]
  },
  {
   "cell_type": "code",
   "execution_count": null,
   "metadata": {},
   "outputs": [],
   "source": [
    "#TODO should be divided by output variance\n",
    "Vt_an = [Vt_an[i]/sum(Vt_an) for i in range(n_vars)]\n",
    "Vt_mc = [Vt_mc[i]/np.var(y_mc) for i in range(n_vars)]\n",
    "Vt_sa = [Vt_sa[i]/np.var(y_sa) for i in range(n_vars)]\n",
    "\n",
    "print([\"{0:0.5f}\".format(i) for i in Vt_an])\n",
    "print([\"{0:0.5f}\".format(i) for i in Vt_mc])\n",
    "print([\"{0:0.5f}\".format(i) for i in Vt_sa])"
   ]
  },
  {
   "cell_type": "markdown",
   "metadata": {},
   "source": [
    "# Test case 2: K function"
   ]
  },
  {
   "cell_type": "code",
   "execution_count": null,
   "metadata": {},
   "outputs": [],
   "source": [
    "def k_function(x):\n",
    "    k = len(x)\n",
    "    k_func = 0\n",
    "    for i in range(1,k+1):\n",
    "        print(i)\n",
    "        k_func = k_func + (-1)**i*np.prod(x[:i])\n",
    "    return k_func"
   ]
  },
  {
   "cell_type": "code",
   "execution_count": null,
   "metadata": {},
   "outputs": [],
   "source": [
    "def"
   ]
  },
  {
   "cell_type": "code",
   "execution_count": null,
   "metadata": {},
   "outputs": [],
   "source": []
  },
  {
   "cell_type": "code",
   "execution_count": null,
   "metadata": {},
   "outputs": [],
   "source": []
  },
  {
   "cell_type": "code",
   "execution_count": null,
   "metadata": {},
   "outputs": [],
   "source": []
  },
  {
   "cell_type": "code",
   "execution_count": null,
   "metadata": {},
   "outputs": [],
   "source": []
  },
  {
   "cell_type": "code",
   "execution_count": null,
   "metadata": {},
   "outputs": [],
   "source": []
  },
  {
   "cell_type": "code",
   "execution_count": null,
   "metadata": {},
   "outputs": [],
   "source": []
  },
  {
   "cell_type": "code",
   "execution_count": null,
   "metadata": {},
   "outputs": [],
   "source": []
  },
  {
   "cell_type": "code",
   "execution_count": null,
   "metadata": {},
   "outputs": [],
   "source": []
  },
  {
   "cell_type": "code",
   "execution_count": null,
   "metadata": {},
   "outputs": [],
   "source": []
  },
  {
   "cell_type": "code",
   "execution_count": null,
   "metadata": {},
   "outputs": [],
   "source": []
  },
  {
   "cell_type": "code",
   "execution_count": null,
   "metadata": {},
   "outputs": [],
   "source": []
  },
  {
   "cell_type": "code",
   "execution_count": null,
   "metadata": {},
   "outputs": [],
   "source": []
  },
  {
   "cell_type": "code",
   "execution_count": null,
   "metadata": {},
   "outputs": [],
   "source": []
  },
  {
   "cell_type": "code",
   "execution_count": null,
   "metadata": {},
   "outputs": [],
   "source": []
  },
  {
   "cell_type": "code",
   "execution_count": null,
   "metadata": {},
   "outputs": [],
   "source": []
  },
  {
   "cell_type": "code",
   "execution_count": null,
   "metadata": {},
   "outputs": [],
   "source": []
  },
  {
   "cell_type": "code",
   "execution_count": null,
   "metadata": {},
   "outputs": [],
   "source": []
  },
  {
   "cell_type": "code",
   "execution_count": null,
   "metadata": {},
   "outputs": [],
   "source": []
  },
  {
   "cell_type": "code",
   "execution_count": null,
   "metadata": {},
   "outputs": [],
   "source": []
  },
  {
   "cell_type": "code",
   "execution_count": null,
   "metadata": {},
   "outputs": [],
   "source": []
  },
  {
   "cell_type": "code",
   "execution_count": null,
   "metadata": {},
   "outputs": [],
   "source": []
  },
  {
   "cell_type": "code",
   "execution_count": null,
   "metadata": {},
   "outputs": [],
   "source": []
  },
  {
   "cell_type": "code",
   "execution_count": null,
   "metadata": {},
   "outputs": [],
   "source": []
  },
  {
   "cell_type": "code",
   "execution_count": null,
   "metadata": {},
   "outputs": [],
   "source": []
  }
 ],
 "metadata": {
  "kernelspec": {
   "display_name": "Python 3",
   "language": "python",
   "name": "python3"
  },
  "language_info": {
   "codemirror_mode": {
    "name": "ipython",
    "version": 3
   },
   "file_extension": ".py",
   "mimetype": "text/x-python",
   "name": "python",
   "nbconvert_exporter": "python",
   "pygments_lexer": "ipython3",
   "version": "3.7.1"
  }
 },
 "nbformat": 4,
 "nbformat_minor": 2
}
