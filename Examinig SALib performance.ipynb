{
 "cells": [
  {
   "cell_type": "code",
   "execution_count": null,
   "metadata": {},
   "outputs": [],
   "source": [
    "import numpy as np\n",
    "from scipy.spatial.distance import cdist\n",
    "from SALib.sample.morris.strategy import Strategy\n",
    "from SALib.sample.morris import generate_trajectory, generate_trajectory_2, _sample_oat, \\\n",
    "generate_p_star, generate_x_star, generate_x_star_2, compute_b_star, compute_b_star_2, compute_delta"
   ]
  },
  {
   "cell_type": "code",
   "execution_count": null,
   "metadata": {},
   "outputs": [],
   "source": [
    "sample = _sample_oat({'num_vars': 10}, 5)"
   ]
  },
  {
   "cell_type": "code",
   "execution_count": null,
   "metadata": {},
   "outputs": [],
   "source": [
    "sample.shape"
   ]
  },
  {
   "cell_type": "code",
   "execution_count": null,
   "metadata": {},
   "outputs": [],
   "source": [
    "sample[:11, 4]"
   ]
  },
  {
   "cell_type": "markdown",
   "metadata": {},
   "source": [
    "## `sample` matrix\n",
    "\n",
    "The way that this array is constructed is... unintuituve. Maybe it is like this for backwards compatibility. `sample` is a two-dimensional array which includes three dimensions: trajectory, parameter, and parameter value. Personally, I would prefer this to be a three dimensional array (order doesn't really matter).\n",
    "\n",
    "Note: My (older, unmaintained) [py-elem-effects](https://bitbucket.org/cmutel/py-elem-effects/) library doesn't store the coordinates of every single point at each point on the trajectory, but rather the starting and ending values for each parameter, and the order the parameters change in. This means you reduce memory usage substantially.\n",
    "\n",
    "The rows are parameter values for the first trajectory, follow by for the second trajectory, etc. Columns are the parameters.\n",
    "\n",
    "## Trajectory generation performance\n",
    "\n",
    "The function `_sample_oat` includes this line:\n",
    "\n",
    "    sample = np.array([generate_trajectory(group_membership, num_levels)\n",
    "                       for n in range(N)])\n",
    "\n",
    "These types of loops should almost always be avoided, as there are numpy operators that are much faster. Let's see if we can make trajectory generation faster."
   ]
  },
  {
   "cell_type": "code",
   "execution_count": null,
   "metadata": {},
   "outputs": [],
   "source": [
    "m = np.asmatrix(np.identity(1000, dtype=int))"
   ]
  },
  {
   "cell_type": "code",
   "execution_count": null,
   "metadata": {},
   "outputs": [],
   "source": [
    "m.shape"
   ]
  },
  {
   "cell_type": "code",
   "execution_count": null,
   "metadata": {},
   "outputs": [],
   "source": [
    "%timeit generate_trajectory(m, 4)"
   ]
  },
  {
   "cell_type": "code",
   "execution_count": null,
   "metadata": {},
   "outputs": [],
   "source": [
    "type(generate_trajectory(m, 4))"
   ]
  },
  {
   "cell_type": "code",
   "execution_count": null,
   "metadata": {},
   "outputs": [],
   "source": [
    "%timeit generate_trajectory_2(m, 4)"
   ]
  },
  {
   "cell_type": "code",
   "execution_count": null,
   "metadata": {},
   "outputs": [],
   "source": [
    "type(generate_trajectory_2(m, 4))"
   ]
  },
  {
   "cell_type": "code",
   "execution_count": null,
   "metadata": {},
   "outputs": [],
   "source": [
    "import numpy.random as rd\n",
    "rd.seed(5)\n",
    "\n",
    "b1 = generate_trajectory(m, 4)\n",
    "b2 = generate_trajectory_2(m, 4)"
   ]
  },
  {
   "cell_type": "code",
   "execution_count": null,
   "metadata": {},
   "outputs": [],
   "source": [
    "b1"
   ]
  },
  {
   "cell_type": "code",
   "execution_count": null,
   "metadata": {},
   "outputs": [],
   "source": [
    "b2"
   ]
  },
  {
   "cell_type": "code",
   "execution_count": null,
   "metadata": {},
   "outputs": [],
   "source": [
    "np.all(b1==b2)"
   ]
  },
  {
   "cell_type": "code",
   "execution_count": null,
   "metadata": {},
   "outputs": [],
   "source": []
  },
  {
   "cell_type": "markdown",
   "metadata": {},
   "source": [
    "# Memory"
   ]
  },
  {
   "cell_type": "code",
   "execution_count": null,
   "metadata": {},
   "outputs": [],
   "source": [
    "import numpy as np\n",
    "import numpy.random as rd\n",
    "import sys\n",
    "import timeit\n",
    "\n",
    "lower = 0\n",
    "upper = 1\n",
    "levels = 4\n",
    "num_parameters = 5000"
   ]
  },
  {
   "cell_type": "code",
   "execution_count": null,
   "metadata": {},
   "outputs": [],
   "source": [
    "#pa = np.tile(np.arange(levels,dtype=np.int8), num_parameters).reshape((num_parameters, levels))\n",
    "pa = np.tile(np.linspace(lower, upper, levels,dtype=np.float16), num_parameters).reshape((num_parameters, levels))\n",
    "starting_indices = np.random.randint(0, high=levels - 1,size=num_parameters) #at which level each parameter starts\n",
    "start = pa[np.arange(num_parameters), starting_indices] #base vector x0\n",
    "end = pa[np.arange(num_parameters), starting_indices - int(levels / 2)] #end of trajectory\n",
    "order = np.random.permutation(np.arange(num_parameters)).reshape((1, -1)) #which parameter changes when\n",
    "indices = np.arange(num_parameters + 1).reshape((-1, 1))\n",
    "start_dense = np.tile(start, num_parameters + 1).reshape((-1, num_parameters))\n",
    "end_dense = np.tile(end, num_parameters + 1).reshape((-1, num_parameters))\n",
    "del pa, starting_indices, start, end\n",
    "mask = indices > order\n",
    "change = end_dense[mask]\n",
    "del end_dense\n",
    "start_dense[mask] = change\n",
    "#start_dense = np.array(start_dense/3,dtype=np.float16)\n",
    "#start_dense[mask] = end_dense[mask]\n"
   ]
  },
  {
   "cell_type": "code",
   "execution_count": null,
   "metadata": {},
   "outputs": [],
   "source": [
    "print(sys.getsizeof(mask))\n",
    "print(sys.getsizeof(change))\n",
    "print(sys.getsizeof(start_dense))\n",
    "#print(sys.getsizeof(end_dense))"
   ]
  },
  {
   "cell_type": "code",
   "execution_count": null,
   "metadata": {},
   "outputs": [],
   "source": [
    "sys.getsizeof(start_dense/3)"
   ]
  },
  {
   "cell_type": "markdown",
   "metadata": {},
   "source": [
    "# Time to generate distance between two trajectories"
   ]
  },
  {
   "cell_type": "code",
   "execution_count": 1,
   "metadata": {},
   "outputs": [],
   "source": [
    "import numpy as np\n",
    "import numpy.random as rd\n",
    "import sys\n",
    "import timeit\n",
    "from scipy.spatial.distance import cdist, pdist\n",
    "import time\n",
    "\n",
    "lower = 0\n",
    "upper = 1\n",
    "levels = 4\n",
    "n_params = 5000"
   ]
  },
  {
   "cell_type": "code",
   "execution_count": 2,
   "metadata": {},
   "outputs": [],
   "source": [
    "def generate_trajectory_2(num_parameters, levels=4, lower=0, upper=1):\n",
    "    pa = np.tile(np.linspace(lower, upper, levels,dtype=np.float16), num_parameters).reshape((num_parameters, levels))\n",
    "    starting_indices = np.random.randint(0, high=levels - 1,size=num_parameters) #at which level each parameter starts\n",
    "    start = pa[np.arange(num_parameters), starting_indices] #base vector x0\n",
    "    end = pa[np.arange(num_parameters), starting_indices - int(levels / 2)] #end of trajectory\n",
    "    order = np.random.permutation(np.arange(num_parameters)).reshape((1, -1)) #which parameter changes when\n",
    "    indices = np.arange(num_parameters + 1).reshape((-1, 1))\n",
    "    start_dense = np.tile(start, num_parameters + 1).reshape((-1, num_parameters))\n",
    "    end_dense = np.tile(end, num_parameters + 1).reshape((-1, num_parameters))\n",
    "    del pa, starting_indices, start, end\n",
    "    mask = indices > order\n",
    "    change = end_dense[mask]\n",
    "    del end_dense\n",
    "    start_dense[mask] = change\n",
    "    del change, mask\n",
    "    return start_dense"
   ]
  },
  {
   "cell_type": "code",
   "execution_count": 3,
   "metadata": {},
   "outputs": [],
   "source": [
    "samples1 = generate_trajectory_2(n_params, levels=4, lower=0, upper=1)\n",
    "samples2 = generate_trajectory_2(n_params, levels=4, lower=0, upper=1)"
   ]
  },
  {
   "cell_type": "code",
   "execution_count": 4,
   "metadata": {},
   "outputs": [
    {
     "name": "stderr",
     "output_type": "stream",
     "text": [
      "/Users/work/miniconda3/envs/salib-dev/lib/python3.6/site-packages/scipy/spatial/distance.py:1888: FutureWarning: elementwise comparison failed; returning scalar instead, but in the future will perform elementwise comparison\n",
      "  if(metric in _METRICS['minkowski'].aka or\n",
      "/Users/work/miniconda3/envs/salib-dev/lib/python3.6/site-packages/scipy/spatial/distance.py:1889: FutureWarning: elementwise comparison failed; returning scalar instead, but in the future will perform elementwise comparison\n",
      "  metric in _METRICS['wminkowski'].aka or\n",
      "/Users/work/miniconda3/envs/salib-dev/lib/python3.6/site-packages/scipy/spatial/distance.py:1890: FutureWarning: elementwise comparison failed; returning scalar instead, but in the future will perform elementwise comparison\n",
      "  metric in ['test_minkowski', 'test_wminkowski'] or\n"
     ]
    },
    {
     "ename": "ValueError",
     "evalue": "The truth value of an array with more than one element is ambiguous. Use a.any() or a.all()",
     "output_type": "error",
     "traceback": [
      "\u001b[0;31m---------------------------------------------------------------------------\u001b[0m",
      "\u001b[0;31mValueError\u001b[0m                                Traceback (most recent call last)",
      "\u001b[0;32m<ipython-input-4-becfce1b203c>\u001b[0m in \u001b[0;36m<module>\u001b[0;34m\u001b[0m\n\u001b[1;32m      1\u001b[0m \u001b[0mt1\u001b[0m \u001b[0;34m=\u001b[0m \u001b[0mtime\u001b[0m\u001b[0;34m.\u001b[0m\u001b[0mtime\u001b[0m\u001b[0;34m(\u001b[0m\u001b[0;34m)\u001b[0m\u001b[0;34m\u001b[0m\u001b[0;34m\u001b[0m\u001b[0m\n\u001b[0;32m----> 2\u001b[0;31m \u001b[0mdistance\u001b[0m \u001b[0;34m=\u001b[0m \u001b[0mnp\u001b[0m\u001b[0;34m.\u001b[0m\u001b[0marray\u001b[0m\u001b[0;34m(\u001b[0m\u001b[0mnp\u001b[0m\u001b[0;34m.\u001b[0m\u001b[0msum\u001b[0m\u001b[0;34m(\u001b[0m\u001b[0mpdist\u001b[0m\u001b[0;34m(\u001b[0m\u001b[0msamples1\u001b[0m\u001b[0;34m,\u001b[0m \u001b[0msamples2\u001b[0m\u001b[0;34m)\u001b[0m\u001b[0;34m)\u001b[0m\u001b[0;34m,\u001b[0m \u001b[0mdtype\u001b[0m\u001b[0;34m=\u001b[0m\u001b[0mnp\u001b[0m\u001b[0;34m.\u001b[0m\u001b[0mfloat64\u001b[0m\u001b[0;34m)\u001b[0m\u001b[0;34m\u001b[0m\u001b[0;34m\u001b[0m\u001b[0m\n\u001b[0m\u001b[1;32m      3\u001b[0m \u001b[0mt2\u001b[0m \u001b[0;34m=\u001b[0m \u001b[0mtime\u001b[0m\u001b[0;34m.\u001b[0m\u001b[0mtime\u001b[0m\u001b[0;34m(\u001b[0m\u001b[0;34m)\u001b[0m\u001b[0;34m\u001b[0m\u001b[0;34m\u001b[0m\u001b[0m\n\u001b[1;32m      4\u001b[0m \u001b[0mt\u001b[0m \u001b[0;34m=\u001b[0m \u001b[0mt2\u001b[0m\u001b[0;34m-\u001b[0m\u001b[0mt1\u001b[0m\u001b[0;34m\u001b[0m\u001b[0;34m\u001b[0m\u001b[0m\n\u001b[1;32m      5\u001b[0m \u001b[0mprint\u001b[0m\u001b[0;34m(\u001b[0m\u001b[0;34m'Time to compute distance: '\u001b[0m \u001b[0;34m+\u001b[0m \u001b[0mstr\u001b[0m\u001b[0;34m(\u001b[0m\u001b[0mt\u001b[0m\u001b[0;34m/\u001b[0m\u001b[0;36m60\u001b[0m\u001b[0;34m)\u001b[0m \u001b[0;34m+\u001b[0m \u001b[0;34m' min'\u001b[0m\u001b[0;34m)\u001b[0m\u001b[0;34m\u001b[0m\u001b[0;34m\u001b[0m\u001b[0m\n",
      "\u001b[0;32m~/miniconda3/envs/salib-dev/lib/python3.6/site-packages/scipy/spatial/distance.py\u001b[0m in \u001b[0;36mpdist\u001b[0;34m(X, metric, *args, **kwargs)\u001b[0m\n\u001b[1;32m   1889\u001b[0m        \u001b[0mmetric\u001b[0m \u001b[0;32min\u001b[0m \u001b[0m_METRICS\u001b[0m\u001b[0;34m[\u001b[0m\u001b[0;34m'wminkowski'\u001b[0m\u001b[0;34m]\u001b[0m\u001b[0;34m.\u001b[0m\u001b[0maka\u001b[0m \u001b[0;32mor\u001b[0m\u001b[0;34m\u001b[0m\u001b[0;34m\u001b[0m\u001b[0m\n\u001b[1;32m   1890\u001b[0m        \u001b[0mmetric\u001b[0m \u001b[0;32min\u001b[0m \u001b[0;34m[\u001b[0m\u001b[0;34m'test_minkowski'\u001b[0m\u001b[0;34m,\u001b[0m \u001b[0;34m'test_wminkowski'\u001b[0m\u001b[0;34m]\u001b[0m \u001b[0;32mor\u001b[0m\u001b[0;34m\u001b[0m\u001b[0;34m\u001b[0m\u001b[0m\n\u001b[0;32m-> 1891\u001b[0;31m        metric in [minkowski, wminkowski]):\n\u001b[0m\u001b[1;32m   1892\u001b[0m         \u001b[0mkwargs_blacklist\u001b[0m \u001b[0;34m=\u001b[0m \u001b[0;34m[\u001b[0m\u001b[0;34m\"V\"\u001b[0m\u001b[0;34m,\u001b[0m \u001b[0;34m\"VI\"\u001b[0m\u001b[0;34m]\u001b[0m\u001b[0;34m\u001b[0m\u001b[0;34m\u001b[0m\u001b[0m\n\u001b[1;32m   1893\u001b[0m     elif(metric in _METRICS['seuclidean'].aka or\n",
      "\u001b[0;31mValueError\u001b[0m: The truth value of an array with more than one element is ambiguous. Use a.any() or a.all()"
     ]
    }
   ],
   "source": [
    "t1 = time.time()\n",
    "distance = np.array(np.sum(pdist(samples1, samples2)), dtype=np.float64)\n",
    "t2 = time.time()\n",
    "t = t2-t1\n",
    "print('Time to compute distance: ' + str(t/60) + ' min')"
   ]
  },
  {
   "cell_type": "code",
   "execution_count": null,
   "metadata": {},
   "outputs": [],
   "source": [
    "distance"
   ]
  },
  {
   "cell_type": "code",
   "execution_count": null,
   "metadata": {},
   "outputs": [],
   "source": [
    "samples1"
   ]
  },
  {
   "cell_type": "code",
   "execution_count": null,
   "metadata": {},
   "outputs": [],
   "source": [
    "samples2"
   ]
  },
  {
   "cell_type": "code",
   "execution_count": null,
   "metadata": {},
   "outputs": [],
   "source": []
  },
  {
   "cell_type": "code",
   "execution_count": null,
   "metadata": {},
   "outputs": [],
   "source": []
  }
 ],
 "metadata": {
  "kernelspec": {
   "display_name": "Python 3",
   "language": "python",
   "name": "python3"
  },
  "language_info": {
   "codemirror_mode": {
    "name": "ipython",
    "version": 3
   },
   "file_extension": ".py",
   "mimetype": "text/x-python",
   "name": "python",
   "nbconvert_exporter": "python",
   "pygments_lexer": "ipython3",
   "version": "3.6.7"
  }
 },
 "nbformat": 4,
 "nbformat_minor": 2
}
