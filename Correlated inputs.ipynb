{
 "cells": [
  {
   "cell_type": "markdown",
   "metadata": {},
   "source": [
    "# Correlated inputs"
   ]
  },
  {
   "cell_type": "markdown",
   "metadata": {},
   "source": [
    "## Implementation of Xu: https://doi.org/10.1016/j.ress.2007.06.003"
   ]
  },
  {
   "cell_type": "code",
   "execution_count": 100,
   "metadata": {},
   "outputs": [],
   "source": [
    "import numpy as np\n",
    "import numpy.random as rand\n",
    "import matplotlib.pyplot as plt\n",
    "from scipy import stats"
   ]
  },
  {
   "cell_type": "markdown",
   "metadata": {},
   "source": [
    "### Test their method on the first example"
   ]
  },
  {
   "cell_type": "markdown",
   "metadata": {},
   "source": [
    "### 1. Model: $y = 2x_1 + 3x_2$"
   ]
  },
  {
   "cell_type": "code",
   "execution_count": 101,
   "metadata": {},
   "outputs": [],
   "source": [
    "loc, scale = [0,0], [1,1]\n",
    "r = 0.7 #correlation ratio is known\n",
    "\n",
    "cov_x1   = scale[0]**2\n",
    "cov_x2   = scale[1]**2\n",
    "cov_x1x2 = r*scale[0]*scale[1]\n",
    "cov = [[cov_x1,cov_x1x2],[cov_x1x2,cov_x2]]\n",
    "         \n",
    "N = 1000000 #Number of samples\n",
    "\n",
    "x = rand.multivariate_normal(loc,cov,N)\n",
    "\n",
    "x1,x2 = x[:,0],x[:,1]\n",
    "y = 2*x1+3*x2\n",
    "\n",
    "loc_y = np.mean(y)"
   ]
  },
  {
   "cell_type": "markdown",
   "metadata": {},
   "source": [
    "### Analytical values"
   ]
  },
  {
   "cell_type": "code",
   "execution_count": 102,
   "metadata": {},
   "outputs": [],
   "source": [
    "#Analytical values for variances\n",
    "\n",
    "Vt_1 = 12*cov_x1x2 + 4*cov_x1 + r**2*9*cov_x2 #Total variations of x1\n",
    "Vu_1 = (1-r**2)*4*cov_x1 #Uncorrelated variation of x1\n",
    "Vc_1 = 12*cov_x1x2 + r**2*4*cov_x1 + r**2*9*cov_x2 #Correlated variation of x1\n",
    "\n",
    "Vt_2 = 12*cov_x1x2 + r**2*4*cov_x1 + 9*cov_x2\n",
    "Vu_2 = (1-r**2)*9*cov_x2\n",
    "Vc_2 = Vc_1"
   ]
  },
  {
   "cell_type": "markdown",
   "metadata": {},
   "source": [
    "### Regression-based method"
   ]
  },
  {
   "cell_type": "code",
   "execution_count": 103,
   "metadata": {},
   "outputs": [],
   "source": [
    "theta_x1 = stats.linregress(x1,y)\n",
    "theta_x2 = stats.linregress(x2,y)\n",
    "\n",
    "#Predicted values (taken from regression)\n",
    "y1_p = theta_x1.intercept + theta_x1.slope*x1\n",
    "y2_p = theta_x2.intercept + theta_x2.slope*x2\n",
    "\n",
    "#Total variations\n",
    "Vt_1_p = sum((y1_p-loc_y)**2)/(N-1)\n",
    "Vt_2_p = sum((y2_p-loc_y)**2)/(N-1)\n",
    "\n",
    "#Uncorrelated variations\n",
    "nu_1 = stats.linregress(x2,x1) #predicting values of x1 based on x2\n",
    "nu_2 = stats.linregress(x1,x2) #predicting values of x2 based on x1\n",
    "z1_p = x1 - (nu_1.intercept + nu_1.slope*x2)\n",
    "z2_p = x2 - (nu_2.intercept + nu_2.slope*x1)\n",
    "r_1 = stats.linregress(z1_p,y)\n",
    "r_2 = stats.linregress(z2_p,y)\n",
    "yu_1_p = r_1.intercept + r_1.slope*z1_p\n",
    "yu_2_p = r_2.intercept + r_2.slope*z2_p\n",
    "Vu_1_p = sum((yu_1_p-loc_y)**2)/(N-1)\n",
    "Vu_2_p = sum((yu_2_p-loc_y)**2)/(N-1)\n",
    "\n",
    "#Correlated variations\n",
    "Vc_1_p = Vt_1_p-Vu_1_p\n",
    "Vc_2_p = Vt_2_p-Vu_2_p"
   ]
  },
  {
   "cell_type": "code",
   "execution_count": 104,
   "metadata": {},
   "outputs": [
    {
     "data": {
      "text/plain": [
       "16.79080615607169"
      ]
     },
     "execution_count": 104,
     "metadata": {},
     "output_type": "execute_result"
    }
   ],
   "source": [
    "Vt_1_p"
   ]
  },
  {
   "cell_type": "code",
   "execution_count": 105,
   "metadata": {},
   "outputs": [
    {
     "data": {
      "text/plain": [
       "19.341926186454646"
      ]
     },
     "execution_count": 105,
     "metadata": {},
     "output_type": "execute_result"
    }
   ],
   "source": [
    "Vt_2_p"
   ]
  },
  {
   "cell_type": "code",
   "execution_count": 106,
   "metadata": {},
   "outputs": [
    {
     "data": {
      "text/plain": [
       "2.0430071739208993"
      ]
     },
     "execution_count": 106,
     "metadata": {},
     "output_type": "execute_result"
    }
   ],
   "source": [
    "Vu_1_p"
   ]
  },
  {
   "cell_type": "code",
   "execution_count": 107,
   "metadata": {},
   "outputs": [
    {
     "data": {
      "text/plain": [
       "4.594127204303066"
      ]
     },
     "execution_count": 107,
     "metadata": {},
     "output_type": "execute_result"
    }
   ],
   "source": [
    "Vu_2_p"
   ]
  },
  {
   "cell_type": "code",
   "execution_count": 108,
   "metadata": {},
   "outputs": [
    {
     "data": {
      "text/plain": [
       "14.74779898215079"
      ]
     },
     "execution_count": 108,
     "metadata": {},
     "output_type": "execute_result"
    }
   ],
   "source": [
    "Vc_1_p"
   ]
  },
  {
   "cell_type": "code",
   "execution_count": 109,
   "metadata": {},
   "outputs": [
    {
     "data": {
      "text/plain": [
       "14.74779898215158"
      ]
     },
     "execution_count": 109,
     "metadata": {},
     "output_type": "execute_result"
    }
   ],
   "source": [
    "Vc_2_p"
   ]
  },
  {
   "cell_type": "code",
   "execution_count": null,
   "metadata": {},
   "outputs": [],
   "source": []
  },
  {
   "cell_type": "markdown",
   "metadata": {},
   "source": [
    "### 2. Nonlinear model: $y = \\frac{x_1x_2}{x_3}$"
   ]
  },
  {
   "cell_type": "code",
   "execution_count": null,
   "metadata": {},
   "outputs": [],
   "source": [
    "lower, upper = [1,1,1], [10,10,10]\n"
   ]
  },
  {
   "cell_type": "code",
   "execution_count": null,
   "metadata": {},
   "outputs": [],
   "source": []
  },
  {
   "cell_type": "code",
   "execution_count": null,
   "metadata": {},
   "outputs": [],
   "source": []
  },
  {
   "cell_type": "code",
   "execution_count": null,
   "metadata": {},
   "outputs": [],
   "source": []
  },
  {
   "cell_type": "code",
   "execution_count": null,
   "metadata": {},
   "outputs": [],
   "source": []
  },
  {
   "cell_type": "code",
   "execution_count": null,
   "metadata": {},
   "outputs": [],
   "source": []
  },
  {
   "cell_type": "code",
   "execution_count": null,
   "metadata": {},
   "outputs": [],
   "source": []
  },
  {
   "cell_type": "code",
   "execution_count": null,
   "metadata": {},
   "outputs": [],
   "source": []
  },
  {
   "cell_type": "code",
   "execution_count": null,
   "metadata": {},
   "outputs": [],
   "source": []
  },
  {
   "cell_type": "code",
   "execution_count": null,
   "metadata": {},
   "outputs": [],
   "source": []
  },
  {
   "cell_type": "code",
   "execution_count": null,
   "metadata": {},
   "outputs": [],
   "source": []
  },
  {
   "cell_type": "code",
   "execution_count": null,
   "metadata": {},
   "outputs": [],
   "source": []
  },
  {
   "cell_type": "code",
   "execution_count": null,
   "metadata": {},
   "outputs": [],
   "source": []
  },
  {
   "cell_type": "code",
   "execution_count": null,
   "metadata": {},
   "outputs": [],
   "source": []
  },
  {
   "cell_type": "code",
   "execution_count": null,
   "metadata": {},
   "outputs": [],
   "source": []
  },
  {
   "cell_type": "code",
   "execution_count": null,
   "metadata": {},
   "outputs": [],
   "source": []
  },
  {
   "cell_type": "code",
   "execution_count": null,
   "metadata": {},
   "outputs": [],
   "source": []
  },
  {
   "cell_type": "code",
   "execution_count": null,
   "metadata": {},
   "outputs": [],
   "source": []
  },
  {
   "cell_type": "code",
   "execution_count": null,
   "metadata": {},
   "outputs": [],
   "source": []
  },
  {
   "cell_type": "code",
   "execution_count": null,
   "metadata": {},
   "outputs": [],
   "source": []
  },
  {
   "cell_type": "code",
   "execution_count": null,
   "metadata": {},
   "outputs": [],
   "source": []
  }
 ],
 "metadata": {
  "kernelspec": {
   "display_name": "Python 3",
   "language": "python",
   "name": "python3"
  },
  "language_info": {
   "codemirror_mode": {
    "name": "ipython",
    "version": 3
   },
   "file_extension": ".py",
   "mimetype": "text/x-python",
   "name": "python",
   "nbconvert_exporter": "python",
   "pygments_lexer": "ipython3",
   "version": "3.7.1"
  }
 },
 "nbformat": 4,
 "nbformat_minor": 2
}
