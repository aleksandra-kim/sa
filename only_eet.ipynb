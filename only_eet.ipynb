{
 "cells": [
  {
   "cell_type": "code",
   "execution_count": 16,
   "metadata": {},
   "outputs": [],
   "source": [
    "import brightway2 as bw\n",
    "import pandas as pd\n",
    "import numpy as np\n",
    "import SALib as sa\n",
    "from sys import getsizeof\n",
    "from utils import deep_getsizeof"
   ]
  },
  {
   "cell_type": "code",
   "execution_count": 17,
   "metadata": {},
   "outputs": [],
   "source": [
    "#Problem definition\n",
    "n_vars = 100\n",
    "p      = 2  #number of levels, even number recommended\n"
   ]
  },
  {
   "cell_type": "code",
   "execution_count": 18,
   "metadata": {},
   "outputs": [],
   "source": [
    "#Generate trajectories\n",
    "def generate_trajectory_2(num_parameters, levels=4, lower=0, upper=1):\n",
    "    \"\"\"\n",
    "    Generate a trajectory for ``num_parameters``.\n",
    "    \n",
    "    Returns an array where the rows are steps in the trajectory, \n",
    "    and the columns are coordinates for each parameter. \n",
    "    \n",
    "    The resulting array therefore has dimensions (num_parameters + 1, num_parameters).\n",
    "    \"\"\"\n",
    "    \n",
    "    pa = np.tile(np.linspace(lower, upper, levels), num_parameters).reshape((num_parameters, levels))\n",
    "    starting_indices = np.random.randint(0, high=levels - 1, size=num_parameters)\n",
    "    start = pa[np.arange(num_parameters), starting_indices]\n",
    "    end = pa[np.arange(num_parameters), starting_indices - int(levels / 2)]\n",
    "    order = np.random.permutation(np.arange(num_parameters)).reshape((1, -1))\n",
    "    indices = np.arange(num_parameters + 1).reshape((-1, 1))\n",
    "    \n",
    "    start_dense = np.tile(start, num_parameters + 1).reshape((-1, num_parameters))\n",
    "    end_dense = np.tile(end, num_parameters + 1).reshape((-1, num_parameters))\n",
    "    \n",
    "    mask = indices > order\n",
    "    start_dense[mask] = end_dense[mask]\n",
    "\n",
    "    return start_dense"
   ]
  },
  {
   "cell_type": "code",
   "execution_count": 19,
   "metadata": {},
   "outputs": [],
   "source": [
    "a = generate_trajectory_2(n_vars,p)"
   ]
  },
  {
   "cell_type": "code",
   "execution_count": 20,
   "metadata": {},
   "outputs": [
    {
     "data": {
      "text/plain": [
       "array([[0., 0., 0., ..., 0., 0., 0.],\n",
       "       [0., 0., 0., ..., 0., 0., 0.],\n",
       "       [0., 0., 0., ..., 0., 0., 0.],\n",
       "       ...,\n",
       "       [1., 1., 1., ..., 1., 1., 1.],\n",
       "       [1., 1., 1., ..., 1., 1., 1.],\n",
       "       [1., 1., 1., ..., 1., 1., 1.]])"
      ]
     },
     "execution_count": 20,
     "metadata": {},
     "output_type": "execute_result"
    }
   ],
   "source": [
    "a"
   ]
  },
  {
   "cell_type": "code",
   "execution_count": 21,
   "metadata": {},
   "outputs": [
    {
     "data": {
      "text/plain": [
       "'368 bytes'"
      ]
     },
     "execution_count": 21,
     "metadata": {},
     "output_type": "execute_result"
    }
   ],
   "source": [
    "str(deep_getsizeof(a,set())) + ' bytes'"
   ]
  },
  {
   "cell_type": "code",
   "execution_count": 22,
   "metadata": {},
   "outputs": [
    {
     "data": {
      "text/plain": [
       "'123.9609375 Mbytes'"
      ]
     },
     "execution_count": 22,
     "metadata": {},
     "output_type": "execute_result"
    }
   ],
   "source": [
    "import resource\n",
    "str(resource.getrusage(resource.RUSAGE_SELF).ru_maxrss/1024/1024) + ' Mbytes'"
   ]
  },
  {
   "cell_type": "code",
   "execution_count": 36,
   "metadata": {},
   "outputs": [
    {
     "name": "stdout",
     "output_type": "stream",
     "text": [
      "Memory usage is: 130800.0 KB\n",
      "Size per foo obj: 13.08 KB\n"
     ]
    }
   ],
   "source": [
    "\n",
    "class Foo(object):\n",
    "    __slots__ = ('val1','val2','val3','val4','val5','val6')\n",
    "  \n",
    "    def __init__(self, val):\n",
    "        self.val1 = val+1\n",
    "        self.val2 = val+2\n",
    "        self.val3 = val+3\n",
    "        self.val4 = val+4\n",
    "        self.val5 = val+5\n",
    "        self.val6 = val+6\n",
    "    \n",
    "def f(count):\n",
    "    l = []\n",
    " \n",
    "    for i in range(count):\n",
    "        foo = Foo(i)\n",
    "        l.append(foo)\n",
    "    return l\n",
    "\n",
    "def main():\n",
    "    count = 10000\n",
    "    l = f(count)\n",
    "    mem = resource.getrusage(resource.RUSAGE_SELF).ru_maxrss/1024\n",
    "    print('Memory usage is: {0} KB'.format(mem))\n",
    "    print('Size per foo obj: {0} KB'.format(float(mem)/count))\n",
    "\n",
    "if __name__ == '__main__':\n",
    "    main()"
   ]
  },
  {
   "cell_type": "code",
   "execution_count": null,
   "metadata": {},
   "outputs": [],
   "source": []
  },
  {
   "cell_type": "code",
   "execution_count": null,
   "metadata": {},
   "outputs": [],
   "source": []
  },
  {
   "cell_type": "code",
   "execution_count": null,
   "metadata": {},
   "outputs": [],
   "source": []
  },
  {
   "cell_type": "code",
   "execution_count": null,
   "metadata": {},
   "outputs": [],
   "source": []
  },
  {
   "cell_type": "code",
   "execution_count": null,
   "metadata": {},
   "outputs": [],
   "source": []
  },
  {
   "cell_type": "code",
   "execution_count": null,
   "metadata": {},
   "outputs": [],
   "source": []
  },
  {
   "cell_type": "code",
   "execution_count": null,
   "metadata": {},
   "outputs": [],
   "source": []
  },
  {
   "cell_type": "code",
   "execution_count": null,
   "metadata": {},
   "outputs": [],
   "source": []
  }
 ],
 "metadata": {
  "kernelspec": {
   "display_name": "Python 3",
   "language": "python",
   "name": "python3"
  },
  "language_info": {
   "codemirror_mode": {
    "name": "ipython",
    "version": 3
   },
   "file_extension": ".py",
   "mimetype": "text/x-python",
   "name": "python",
   "nbconvert_exporter": "python",
   "pygments_lexer": "ipython3",
   "version": "3.6.7"
  }
 },
 "nbformat": 4,
 "nbformat_minor": 2
}
