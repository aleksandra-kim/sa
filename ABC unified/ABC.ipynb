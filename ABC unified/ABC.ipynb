{
 "cells": [
  {
   "cell_type": "code",
   "execution_count": null,
   "metadata": {},
   "outputs": [],
   "source": [
    "import brightway2 as bw\n",
    "import numpy as np\n",
    "import pandas as pd"
   ]
  },
  {
   "cell_type": "code",
   "execution_count": null,
   "metadata": {},
   "outputs": [],
   "source": [
    "bw.projects.set_current('ABC unified')"
   ]
  },
  {
   "cell_type": "code",
   "execution_count": null,
   "metadata": {},
   "outputs": [],
   "source": [
    "db = bw.Database('ecoinvent 3.5 cutoff')"
   ]
  },
  {
   "cell_type": "code",
   "execution_count": null,
   "metadata": {},
   "outputs": [],
   "source": [
    "act = [act for act in db if 'transport' in act['name']\n",
    "                   and 'regional' in act['name']\n",
    "                   and 'passenger train' in act['name']\n",
    "                   and 'CH' in act['location']\n",
    "][0]"
   ]
  },
  {
   "cell_type": "code",
   "execution_count": null,
   "metadata": {},
   "outputs": [],
   "source": [
    "lcia_method = ('IPCC 2013', 'climate change', 'GWP 100a')\n",
    "LCA = bw.LCA({act:1}, lcia_method)\n"
   ]
  },
  {
   "cell_type": "code",
   "execution_count": null,
   "metadata": {},
   "outputs": [],
   "source": [
    "LCA.lci()\n",
    "LCA.lcia()\n",
    "LCA.score "
   ]
  },
  {
   "cell_type": "code",
   "execution_count": null,
   "metadata": {},
   "outputs": [],
   "source": [
    "LCA.cf_params"
   ]
  },
  {
   "cell_type": "code",
   "execution_count": null,
   "metadata": {},
   "outputs": [],
   "source": []
  },
  {
   "cell_type": "markdown",
   "metadata": {},
   "source": [
    "# Results from the paper of Weidema\n",
    "https://doi.org/10.1007/s11367-017-1398-4"
   ]
  },
  {
   "cell_type": "code",
   "execution_count": null,
   "metadata": {},
   "outputs": [],
   "source": [
    "n_pr = 3 #number of processes\n",
    "n_el = 2 #number of elementary flows\n",
    "n_ch = 3 #number of number of characterization factors\n",
    "A = np.eye(n_pr)\n",
    "Bt = np.array([[0.0014,0.005,0.0006],[0.01,0.01,0.04]])\n",
    "Ct = np.array([[0.2,0.076],[1600,610],[33,0]])\n",
    "ft = np.array([1,0,0])"
   ]
  },
  {
   "cell_type": "markdown",
   "metadata": {},
   "source": [
    "### Traditional calculation"
   ]
  },
  {
   "cell_type": "code",
   "execution_count": null,
   "metadata": {},
   "outputs": [],
   "source": [
    "g = np.matmul(Ct,np.matmul(Bt,(np.matmul(np.linalg.inv(A),ft))))"
   ]
  },
  {
   "cell_type": "markdown",
   "metadata": {},
   "source": [
    "### Expanded calculation"
   ]
  },
  {
   "cell_type": "code",
   "execution_count": null,
   "metadata": {},
   "outputs": [],
   "source": [
    "n_mi = 2 #number of additional midpoints\n",
    "B = np.vstack((Bt,np.zeros([n_ch+n_mi,n_pr])))\n",
    "C = np.diag(-np.ones(n_el+n_ch+n_mi))"
   ]
  },
  {
   "cell_type": "markdown",
   "metadata": {},
   "source": [
    "### My interpretation"
   ]
  },
  {
   "cell_type": "code",
   "execution_count": null,
   "metadata": {},
   "outputs": [],
   "source": [
    "At = np.eye(3)\n",
    "At[1,0] = 0.9\n",
    "myA1 = np.vstack([A,Bt])\n",
    "myA2 = np.vstack([np.zeros([3,2]),np.diag(-np.ones(2))])\n",
    "myA  = np.hstack([myA1,myA2])\n",
    "myf  = np.hstack([ft,np.zeros(2)])"
   ]
  },
  {
   "cell_type": "code",
   "execution_count": null,
   "metadata": {},
   "outputs": [],
   "source": [
    "emissions_t = np.matmul(Bt,(np.matmul(np.linalg.inv(At),ft)))\n",
    "myemissions = np.matmul(np.linalg.inv(myA),myf)"
   ]
  },
  {
   "cell_type": "code",
   "execution_count": null,
   "metadata": {},
   "outputs": [],
   "source": [
    "emissions_t"
   ]
  },
  {
   "cell_type": "code",
   "execution_count": null,
   "metadata": {},
   "outputs": [],
   "source": [
    "myemissions"
   ]
  },
  {
   "cell_type": "code",
   "execution_count": null,
   "metadata": {},
   "outputs": [],
   "source": [
    "myA"
   ]
  },
  {
   "cell_type": "code",
   "execution_count": null,
   "metadata": {},
   "outputs": [],
   "source": [
    "A"
   ]
  },
  {
   "cell_type": "code",
   "execution_count": null,
   "metadata": {},
   "outputs": [],
   "source": []
  },
  {
   "cell_type": "code",
   "execution_count": null,
   "metadata": {},
   "outputs": [],
   "source": []
  },
  {
   "cell_type": "code",
   "execution_count": null,
   "metadata": {},
   "outputs": [],
   "source": []
  },
  {
   "cell_type": "code",
   "execution_count": null,
   "metadata": {},
   "outputs": [],
   "source": []
  },
  {
   "cell_type": "code",
   "execution_count": null,
   "metadata": {},
   "outputs": [],
   "source": [
    "def get_majority_element(a, left, right):\n",
    "    if left == right:\n",
    "        return -1\n",
    "    if left + 1 == right:\n",
    "        return a[left]\n",
    "    #write your code here\n",
    "    return -1"
   ]
  },
  {
   "cell_type": "code",
   "execution_count": null,
   "metadata": {},
   "outputs": [],
   "source": []
  },
  {
   "cell_type": "code",
   "execution_count": null,
   "metadata": {},
   "outputs": [],
   "source": [
    "def get_majority_element(a):\n",
    "    low,high = 0,len(a)-1\n",
    "    a = sorted(a)\n",
    "    \n",
    "    res = get_majority_element_(a,low,high)\n",
    "    print(res)\n",
    "    if res==-1:\n",
    "        return 0\n",
    "    else:\n",
    "        return 1\n",
    "\n",
    "def get_majority_element_(a,low,high):\n",
    "    mid = (low+high)//2\n",
    "    print('ff')\n",
    "    \n",
    "    if high-low<=1:\n",
    "        if a[low]==a[high]:\n",
    "            return a[low]\n",
    "        else:\n",
    "            return -1\n",
    "    else:\n",
    "        res1 = get_majority_element_(a,low,mid)\n",
    "        res2 = get_majority_element_(a,mid+1,high)\n",
    "        if res1==res2 and res1!=-1:\n",
    "            return res1\n",
    "        else:\n",
    "            return -1\n",
    "    "
   ]
  },
  {
   "cell_type": "code",
   "execution_count": null,
   "metadata": {},
   "outputs": [],
   "source": [
    "a = [2,2,2,1,2,2,2,2]\n",
    "get_majority_element(a)"
   ]
  },
  {
   "cell_type": "code",
   "execution_count": null,
   "metadata": {},
   "outputs": [],
   "source": []
  },
  {
   "cell_type": "code",
   "execution_count": null,
   "metadata": {},
   "outputs": [],
   "source": []
  },
  {
   "cell_type": "code",
   "execution_count": 743,
   "metadata": {},
   "outputs": [],
   "source": [
    "def get_change(money,coins):\n",
    "    n = len(coins)\n",
    "    min_numcoins = [0]*(money+1)\n",
    "    for m in range(1,money+1):\n",
    "        min_numcoins[m] = float(\"inf\")\n",
    "        for c in coins:\n",
    "            if m>=c:\n",
    "                numcoins = min_numcoins[m-c]+1\n",
    "                if numcoins<min_numcoins[m]:\n",
    "                    min_numcoins[m] = numcoins\n",
    "    return min_numcoins[-1]"
   ]
  },
  {
   "cell_type": "code",
   "execution_count": 772,
   "metadata": {},
   "outputs": [],
   "source": [
    "def calc(number):\n",
    "    if number==1:\n",
    "        return 0\n",
    "    min_numops = [0]*(number+1)\n",
    "    for n in range(1,number+1):\n",
    "        min_numops[n] = float('inf')\n",
    "        cand = [float('inf')]*3\n",
    "        if n%2==0:\n",
    "            cand[0] = min_numops[n//2]+1\n",
    "        if n%3==0:\n",
    "            cand[1] = min_numops[n//3]+1\n",
    "        cand[2] = min_numops[n-1]+1\n",
    "        print(min_numops)\n",
    "        if min(cand)<min_numops[n]:\n",
    "            min_numops[n] = min(cand)\n",
    "    return min_numops"
   ]
  },
  {
   "cell_type": "code",
   "execution_count": 775,
   "metadata": {},
   "outputs": [
    {
     "name": "stdout",
     "output_type": "stream",
     "text": [
      "[0, inf, 0, 0, 0, 0, 0, 0, 0, 0, 0, 0, 0, 0, 0, 0, 0, 0, 0, 0, 0, 0, 0, 0, 0, 0, 0, 0, 0, 0, 0]\n",
      "[0, 1, inf, 0, 0, 0, 0, 0, 0, 0, 0, 0, 0, 0, 0, 0, 0, 0, 0, 0, 0, 0, 0, 0, 0, 0, 0, 0, 0, 0, 0]\n",
      "[0, 1, 2, inf, 0, 0, 0, 0, 0, 0, 0, 0, 0, 0, 0, 0, 0, 0, 0, 0, 0, 0, 0, 0, 0, 0, 0, 0, 0, 0, 0]\n",
      "[0, 1, 2, 2, inf, 0, 0, 0, 0, 0, 0, 0, 0, 0, 0, 0, 0, 0, 0, 0, 0, 0, 0, 0, 0, 0, 0, 0, 0, 0, 0]\n",
      "[0, 1, 2, 2, 3, inf, 0, 0, 0, 0, 0, 0, 0, 0, 0, 0, 0, 0, 0, 0, 0, 0, 0, 0, 0, 0, 0, 0, 0, 0, 0]\n",
      "[0, 1, 2, 2, 3, 4, inf, 0, 0, 0, 0, 0, 0, 0, 0, 0, 0, 0, 0, 0, 0, 0, 0, 0, 0, 0, 0, 0, 0, 0, 0]\n",
      "[0, 1, 2, 2, 3, 4, 3, inf, 0, 0, 0, 0, 0, 0, 0, 0, 0, 0, 0, 0, 0, 0, 0, 0, 0, 0, 0, 0, 0, 0, 0]\n",
      "[0, 1, 2, 2, 3, 4, 3, 4, inf, 0, 0, 0, 0, 0, 0, 0, 0, 0, 0, 0, 0, 0, 0, 0, 0, 0, 0, 0, 0, 0, 0]\n",
      "[0, 1, 2, 2, 3, 4, 3, 4, 4, inf, 0, 0, 0, 0, 0, 0, 0, 0, 0, 0, 0, 0, 0, 0, 0, 0, 0, 0, 0, 0, 0]\n",
      "[0, 1, 2, 2, 3, 4, 3, 4, 4, 3, inf, 0, 0, 0, 0, 0, 0, 0, 0, 0, 0, 0, 0, 0, 0, 0, 0, 0, 0, 0, 0]\n",
      "[0, 1, 2, 2, 3, 4, 3, 4, 4, 3, 4, inf, 0, 0, 0, 0, 0, 0, 0, 0, 0, 0, 0, 0, 0, 0, 0, 0, 0, 0, 0]\n",
      "[0, 1, 2, 2, 3, 4, 3, 4, 4, 3, 4, 5, inf, 0, 0, 0, 0, 0, 0, 0, 0, 0, 0, 0, 0, 0, 0, 0, 0, 0, 0]\n",
      "[0, 1, 2, 2, 3, 4, 3, 4, 4, 3, 4, 5, 4, inf, 0, 0, 0, 0, 0, 0, 0, 0, 0, 0, 0, 0, 0, 0, 0, 0, 0]\n",
      "[0, 1, 2, 2, 3, 4, 3, 4, 4, 3, 4, 5, 4, 5, inf, 0, 0, 0, 0, 0, 0, 0, 0, 0, 0, 0, 0, 0, 0, 0, 0]\n",
      "[0, 1, 2, 2, 3, 4, 3, 4, 4, 3, 4, 5, 4, 5, 5, inf, 0, 0, 0, 0, 0, 0, 0, 0, 0, 0, 0, 0, 0, 0, 0]\n",
      "[0, 1, 2, 2, 3, 4, 3, 4, 4, 3, 4, 5, 4, 5, 5, 5, inf, 0, 0, 0, 0, 0, 0, 0, 0, 0, 0, 0, 0, 0, 0]\n",
      "[0, 1, 2, 2, 3, 4, 3, 4, 4, 3, 4, 5, 4, 5, 5, 5, 5, inf, 0, 0, 0, 0, 0, 0, 0, 0, 0, 0, 0, 0, 0]\n",
      "[0, 1, 2, 2, 3, 4, 3, 4, 4, 3, 4, 5, 4, 5, 5, 5, 5, 6, inf, 0, 0, 0, 0, 0, 0, 0, 0, 0, 0, 0, 0]\n",
      "[0, 1, 2, 2, 3, 4, 3, 4, 4, 3, 4, 5, 4, 5, 5, 5, 5, 6, 4, inf, 0, 0, 0, 0, 0, 0, 0, 0, 0, 0, 0]\n",
      "[0, 1, 2, 2, 3, 4, 3, 4, 4, 3, 4, 5, 4, 5, 5, 5, 5, 6, 4, 5, inf, 0, 0, 0, 0, 0, 0, 0, 0, 0, 0]\n",
      "[0, 1, 2, 2, 3, 4, 3, 4, 4, 3, 4, 5, 4, 5, 5, 5, 5, 6, 4, 5, 5, inf, 0, 0, 0, 0, 0, 0, 0, 0, 0]\n",
      "[0, 1, 2, 2, 3, 4, 3, 4, 4, 3, 4, 5, 4, 5, 5, 5, 5, 6, 4, 5, 5, 5, inf, 0, 0, 0, 0, 0, 0, 0, 0]\n",
      "[0, 1, 2, 2, 3, 4, 3, 4, 4, 3, 4, 5, 4, 5, 5, 5, 5, 6, 4, 5, 5, 5, 6, inf, 0, 0, 0, 0, 0, 0, 0]\n",
      "[0, 1, 2, 2, 3, 4, 3, 4, 4, 3, 4, 5, 4, 5, 5, 5, 5, 6, 4, 5, 5, 5, 6, 7, inf, 0, 0, 0, 0, 0, 0]\n",
      "[0, 1, 2, 2, 3, 4, 3, 4, 4, 3, 4, 5, 4, 5, 5, 5, 5, 6, 4, 5, 5, 5, 6, 7, 5, inf, 0, 0, 0, 0, 0]\n",
      "[0, 1, 2, 2, 3, 4, 3, 4, 4, 3, 4, 5, 4, 5, 5, 5, 5, 6, 4, 5, 5, 5, 6, 7, 5, 6, inf, 0, 0, 0, 0]\n",
      "[0, 1, 2, 2, 3, 4, 3, 4, 4, 3, 4, 5, 4, 5, 5, 5, 5, 6, 4, 5, 5, 5, 6, 7, 5, 6, 6, inf, 0, 0, 0]\n",
      "[0, 1, 2, 2, 3, 4, 3, 4, 4, 3, 4, 5, 4, 5, 5, 5, 5, 6, 4, 5, 5, 5, 6, 7, 5, 6, 6, 4, inf, 0, 0]\n",
      "[0, 1, 2, 2, 3, 4, 3, 4, 4, 3, 4, 5, 4, 5, 5, 5, 5, 6, 4, 5, 5, 5, 6, 7, 5, 6, 6, 4, 5, inf, 0]\n",
      "[0, 1, 2, 2, 3, 4, 3, 4, 4, 3, 4, 5, 4, 5, 5, 5, 5, 6, 4, 5, 5, 5, 6, 7, 5, 6, 6, 4, 5, 6, inf]\n"
     ]
    },
    {
     "data": {
      "text/plain": [
       "[0,\n",
       " 1,\n",
       " 2,\n",
       " 2,\n",
       " 3,\n",
       " 4,\n",
       " 3,\n",
       " 4,\n",
       " 4,\n",
       " 3,\n",
       " 4,\n",
       " 5,\n",
       " 4,\n",
       " 5,\n",
       " 5,\n",
       " 5,\n",
       " 5,\n",
       " 6,\n",
       " 4,\n",
       " 5,\n",
       " 5,\n",
       " 5,\n",
       " 6,\n",
       " 7,\n",
       " 5,\n",
       " 6,\n",
       " 6,\n",
       " 4,\n",
       " 5,\n",
       " 6,\n",
       " 5]"
      ]
     },
     "execution_count": 775,
     "metadata": {},
     "output_type": "execute_result"
    }
   ],
   "source": [
    "calc(30)"
   ]
  },
  {
   "cell_type": "code",
   "execution_count": 745,
   "metadata": {},
   "outputs": [],
   "source": [
    "cand = [float('inf')]*3"
   ]
  },
  {
   "cell_type": "code",
   "execution_count": 746,
   "metadata": {},
   "outputs": [
    {
     "data": {
      "text/plain": [
       "[inf, inf, inf]"
      ]
     },
     "execution_count": 746,
     "metadata": {},
     "output_type": "execute_result"
    }
   ],
   "source": [
    "cand"
   ]
  },
  {
   "cell_type": "code",
   "execution_count": 747,
   "metadata": {},
   "outputs": [],
   "source": [
    "a = [1,2,3]"
   ]
  },
  {
   "cell_type": "code",
   "execution_count": 748,
   "metadata": {},
   "outputs": [
    {
     "ename": "NameError",
     "evalue": "name 'find' is not defined",
     "output_type": "error",
     "traceback": [
      "\u001b[0;31m---------------------------------------------------------------------------\u001b[0m",
      "\u001b[0;31mNameError\u001b[0m                                 Traceback (most recent call last)",
      "\u001b[0;32m<ipython-input-748-2741e67e1aa7>\u001b[0m in \u001b[0;36m<module>\u001b[0;34m\u001b[0m\n\u001b[0;32m----> 1\u001b[0;31m \u001b[0mfind\u001b[0m\u001b[0;34m(\u001b[0m\u001b[0mmin\u001b[0m\u001b[0;34m(\u001b[0m\u001b[0ma\u001b[0m\u001b[0;34m)\u001b[0m\u001b[0;34m)\u001b[0m\u001b[0;34m\u001b[0m\u001b[0;34m\u001b[0m\u001b[0m\n\u001b[0m",
      "\u001b[0;31mNameError\u001b[0m: name 'find' is not defined"
     ]
    }
   ],
   "source": [
    "find(min(a))"
   ]
  },
  {
   "cell_type": "code",
   "execution_count": 750,
   "metadata": {},
   "outputs": [
    {
     "data": {
      "text/plain": [
       "2"
      ]
     },
     "execution_count": 750,
     "metadata": {},
     "output_type": "execute_result"
    }
   ],
   "source": [
    "a.index(max(a))"
   ]
  },
  {
   "cell_type": "code",
   "execution_count": null,
   "metadata": {},
   "outputs": [],
   "source": []
  },
  {
   "cell_type": "code",
   "execution_count": null,
   "metadata": {},
   "outputs": [],
   "source": []
  },
  {
   "cell_type": "code",
   "execution_count": null,
   "metadata": {},
   "outputs": [],
   "source": []
  },
  {
   "cell_type": "code",
   "execution_count": null,
   "metadata": {},
   "outputs": [],
   "source": []
  },
  {
   "cell_type": "code",
   "execution_count": null,
   "metadata": {},
   "outputs": [],
   "source": []
  },
  {
   "cell_type": "code",
   "execution_count": null,
   "metadata": {},
   "outputs": [],
   "source": []
  },
  {
   "cell_type": "code",
   "execution_count": null,
   "metadata": {},
   "outputs": [],
   "source": []
  },
  {
   "cell_type": "code",
   "execution_count": null,
   "metadata": {},
   "outputs": [],
   "source": []
  },
  {
   "cell_type": "code",
   "execution_count": null,
   "metadata": {},
   "outputs": [],
   "source": []
  },
  {
   "cell_type": "code",
   "execution_count": null,
   "metadata": {},
   "outputs": [],
   "source": []
  }
 ],
 "metadata": {
  "kernelspec": {
   "display_name": "Python 3",
   "language": "python",
   "name": "python3"
  },
  "language_info": {
   "codemirror_mode": {
    "name": "ipython",
    "version": 3
   },
   "file_extension": ".py",
   "mimetype": "text/x-python",
   "name": "python",
   "nbconvert_exporter": "python",
   "pygments_lexer": "ipython3",
   "version": "3.6.7"
  }
 },
 "nbformat": 4,
 "nbformat_minor": 2
}
