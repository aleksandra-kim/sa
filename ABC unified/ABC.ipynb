{
 "cells": [
  {
   "cell_type": "markdown",
   "metadata": {},
   "source": [
    "# Ecoinvent"
   ]
  },
  {
   "cell_type": "code",
   "execution_count": 1,
   "metadata": {},
   "outputs": [],
   "source": [
    "import brightway2 as bw\n",
    "from bw2data import mapping\n",
    "\n",
    "import copy\n",
    "import time\n",
    "\n",
    "import numpy as np\n",
    "import pandas as pd\n",
    "from scipy import sparse"
   ]
  },
  {
   "cell_type": "code",
   "execution_count": 2,
   "metadata": {},
   "outputs": [],
   "source": [
    "bw.projects.set_current('ABC unified')"
   ]
  },
  {
   "cell_type": "code",
   "execution_count": 3,
   "metadata": {},
   "outputs": [],
   "source": [
    "db = bw.Database('ecoinvent 3.5 cutoff')"
   ]
  },
  {
   "cell_type": "code",
   "execution_count": 4,
   "metadata": {},
   "outputs": [],
   "source": [
    "lcia_method = ('IPCC 2013', 'climate change', 'GWP 100a')"
   ]
  },
  {
   "cell_type": "code",
   "execution_count": 5,
   "metadata": {},
   "outputs": [],
   "source": [
    "act = [act for act in db if 'transport' in act['name']\n",
    "                   and 'regional' in act['name']\n",
    "                   and 'passenger train' in act['name']\n",
    "                   and 'CH' in act['location']\n",
    "][0]\n",
    "demand = {act:1}"
   ]
  },
  {
   "cell_type": "code",
   "execution_count": 6,
   "metadata": {},
   "outputs": [],
   "source": [
    "LCA = bw.LCA(demand,lcia_method)\n",
    "LCA.lci()\n",
    "LCA.lcia()\n",
    "\n",
    "#Dimensions\n",
    "n = len(LCA.activity_dict)\n",
    "m = len(LCA.biosphere_dict)\n",
    "k = len(bw.methods)"
   ]
  },
  {
   "cell_type": "code",
   "execution_count": 7,
   "metadata": {},
   "outputs": [],
   "source": [
    "# one_vec = np.ones(m)\n",
    "# #run LCIA for all methods\n",
    "# C = np.zeros([m,k])\n",
    "# im=0\n",
    "# for method in bw.methods:\n",
    "#     print(im)\n",
    "#     LCA = bw.LCA(demand,method=method)\n",
    "#     LCA.lci()\n",
    "#     LCA.lcia()\n",
    "#     C_temp = LCA.characterization_matrix\n",
    "#     C_dense = C_temp.todense()\n",
    "#     C[:,im] = np.matmul(C_dense,one_vec)\n",
    "#     im += 1"
   ]
  },
  {
   "cell_type": "code",
   "execution_count": 8,
   "metadata": {},
   "outputs": [],
   "source": [
    "#Traditional LCA\n",
    "A = LCA.technosphere_matrix\n",
    "B = LCA.biosphere_matrix\n",
    "C = LCA.characterization_matrix\n",
    "f = LCA.demand_array"
   ]
  },
  {
   "cell_type": "code",
   "execution_count": 9,
   "metadata": {},
   "outputs": [],
   "source": [
    "Cext = sum(C)\n",
    "k = Cext.shape[0]\n",
    "\n",
    "#Extended LCA\n",
    "Cell1 = sparse.vstack([B,np.zeros([k,n])])\n",
    "Col1  = sparse.vstack([A,Cell1])\n",
    "\n",
    "Cell2 = sparse.vstack([np.zeros([n,m]),np.diag(-np.ones(m))])\n",
    "Col2  = sparse.vstack([Cell2,Cext])\n",
    "\n",
    "Dext  = np.zeros([n,k])\n",
    "Cell3 = sparse.vstack([Dext,np.zeros([m,k])])\n",
    "Col3  = sparse.vstack([Cell3,np.diag(-np.ones(k))]) \n",
    "\n",
    "Row1  = sparse.hstack([Col1,Col2])\n",
    "Aext  = sparse.hstack([Row1,Col3])\n",
    "fext = sparse.hstack([f,np.zeros(m+k)]).transpose()\n",
    "# #convert to sparse matrix representation\n",
    "Aext = sparse.csr_matrix(Aext)\n",
    "fext = sparse.csr_matrix(fext)"
   ]
  },
  {
   "cell_type": "code",
   "execution_count": 10,
   "metadata": {},
   "outputs": [],
   "source": [
    "t1 = time.time()\n",
    "g = sparse.linalg.spsolve(A,f)\n",
    "g = B@g\n",
    "# g = np.matmul(B.todense(),g.transpose())\n",
    "# g = np.matmul(C.todense(),g.transpose())\n",
    "g = C@g\n",
    "t2 = time.time()\n",
    "delta_t = t2-t1\n",
    "\n",
    "t1_ext = time.time()\n",
    "g_ext = sparse.linalg.spsolve(Aext,fext)[:m]\n",
    "t2_ext = time.time()\n",
    "delta_t_ext = t2_ext-t1_ext"
   ]
  },
  {
   "cell_type": "code",
   "execution_count": 11,
   "metadata": {},
   "outputs": [
    {
     "data": {
      "text/plain": [
       "1.1560571193695068"
      ]
     },
     "execution_count": 11,
     "metadata": {},
     "output_type": "execute_result"
    }
   ],
   "source": [
    "delta_t"
   ]
  },
  {
   "cell_type": "code",
   "execution_count": 12,
   "metadata": {},
   "outputs": [
    {
     "data": {
      "text/plain": [
       "2.800372362136841"
      ]
     },
     "execution_count": 12,
     "metadata": {},
     "output_type": "execute_result"
    }
   ],
   "source": [
    "delta_t_ext"
   ]
  },
  {
   "cell_type": "code",
   "execution_count": 13,
   "metadata": {},
   "outputs": [
    {
     "data": {
      "text/plain": [
       "array([0., 0., 0., 0., 0., 0., 0., 0., 0., 0., 0., 0., 0., 0., 0., 0., 0.,\n",
       "       0., 0., 0.])"
      ]
     },
     "execution_count": 13,
     "metadata": {},
     "output_type": "execute_result"
    }
   ],
   "source": [
    "jl = 20\n",
    "g[:jl]"
   ]
  },
  {
   "cell_type": "code",
   "execution_count": 14,
   "metadata": {},
   "outputs": [
    {
     "data": {
      "text/plain": [
       "array([-3.87270387e-18,  0.00000000e+00,  5.64286341e-08,  8.10340750e-12,\n",
       "        3.95692084e-22,  0.00000000e+00,  1.48110174e-11,  1.46885287e-07,\n",
       "        1.41652867e-04,  0.00000000e+00,  0.00000000e+00,  9.93685650e-16,\n",
       "        4.37294922e-05,  0.00000000e+00,  2.29243970e-06,  1.52624249e-08,\n",
       "        2.35642452e-28,  1.88615319e-07,  0.00000000e+00,  7.99946222e-08])"
      ]
     },
     "execution_count": 14,
     "metadata": {},
     "output_type": "execute_result"
    }
   ],
   "source": [
    "g_ext[:jl]"
   ]
  },
  {
   "cell_type": "code",
   "execution_count": 15,
   "metadata": {},
   "outputs": [
    {
     "data": {
      "text/plain": [
       "5.830872984344387e-07"
      ]
     },
     "execution_count": 15,
     "metadata": {},
     "output_type": "execute_result"
    }
   ],
   "source": [
    "error = sum((g-g_ext)**2)/n\n",
    "error"
   ]
  },
  {
   "cell_type": "code",
   "execution_count": null,
   "metadata": {},
   "outputs": [],
   "source": []
  },
  {
   "cell_type": "code",
   "execution_count": null,
   "metadata": {},
   "outputs": [],
   "source": []
  },
  {
   "cell_type": "code",
   "execution_count": null,
   "metadata": {},
   "outputs": [],
   "source": []
  },
  {
   "cell_type": "code",
   "execution_count": null,
   "metadata": {},
   "outputs": [],
   "source": []
  },
  {
   "cell_type": "code",
   "execution_count": null,
   "metadata": {},
   "outputs": [],
   "source": []
  },
  {
   "cell_type": "code",
   "execution_count": null,
   "metadata": {},
   "outputs": [],
   "source": []
  },
  {
   "cell_type": "code",
   "execution_count": null,
   "metadata": {},
   "outputs": [],
   "source": []
  },
  {
   "cell_type": "code",
   "execution_count": null,
   "metadata": {},
   "outputs": [],
   "source": []
  },
  {
   "cell_type": "code",
   "execution_count": null,
   "metadata": {},
   "outputs": [],
   "source": []
  },
  {
   "cell_type": "markdown",
   "metadata": {},
   "source": [
    "# Results from the paper of Weidema\n",
    "https://doi.org/10.1007/s11367-017-1398-4"
   ]
  },
  {
   "cell_type": "code",
   "execution_count": null,
   "metadata": {},
   "outputs": [],
   "source": [
    "n_pr = 3 #number of processes\n",
    "n_el = 2 #number of elementary flows\n",
    "n_ch = 3 #number of number of characterization factors\n",
    "A = np.eye(n_pr)\n",
    "Bt = np.array([[0.0014,0.005,0.0006],[0.01,0.01,0.04]])\n",
    "Ct = np.array([[0.2,0.076],[1600,610],[33,0]])\n",
    "ft = np.array([1,0,0])"
   ]
  },
  {
   "cell_type": "markdown",
   "metadata": {},
   "source": [
    "### Traditional calculation"
   ]
  },
  {
   "cell_type": "code",
   "execution_count": null,
   "metadata": {},
   "outputs": [],
   "source": [
    "g = np.matmul(Ct,np.matmul(Bt,(np.matmul(np.linalg.inv(A),ft))))"
   ]
  },
  {
   "cell_type": "markdown",
   "metadata": {},
   "source": [
    "### Expanded calculation"
   ]
  },
  {
   "cell_type": "code",
   "execution_count": null,
   "metadata": {},
   "outputs": [],
   "source": [
    "n_mi = 2 #number of additional midpoints\n",
    "B = np.vstack((Bt,np.zeros([n_ch+n_mi,n_pr])))\n",
    "C = np.diag(-np.ones(n_el+n_ch+n_mi))"
   ]
  },
  {
   "cell_type": "markdown",
   "metadata": {},
   "source": [
    "### My interpretation"
   ]
  },
  {
   "cell_type": "code",
   "execution_count": null,
   "metadata": {},
   "outputs": [],
   "source": [
    "At = np.eye(3)\n",
    "At[1,0] = 0.9\n",
    "myA1 = np.vstack([A,Bt])\n",
    "myA2 = np.vstack([np.zeros([3,2]),np.diag(-np.ones(2))])\n",
    "myA  = np.hstack([myA1,myA2])\n",
    "myf  = np.hstack([ft,np.zeros(2)])"
   ]
  },
  {
   "cell_type": "code",
   "execution_count": null,
   "metadata": {},
   "outputs": [],
   "source": [
    "emissions_t = np.matmul(Bt,(np.matmul(np.linalg.inv(At),ft)))\n",
    "myemissions = np.matmul(np.linalg.inv(myA),myf)"
   ]
  },
  {
   "cell_type": "code",
   "execution_count": null,
   "metadata": {},
   "outputs": [],
   "source": [
    "emissions_t"
   ]
  },
  {
   "cell_type": "code",
   "execution_count": null,
   "metadata": {},
   "outputs": [],
   "source": [
    "myemissions"
   ]
  },
  {
   "cell_type": "code",
   "execution_count": null,
   "metadata": {},
   "outputs": [],
   "source": [
    "myA"
   ]
  },
  {
   "cell_type": "code",
   "execution_count": null,
   "metadata": {},
   "outputs": [],
   "source": []
  },
  {
   "cell_type": "code",
   "execution_count": null,
   "metadata": {},
   "outputs": [],
   "source": []
  },
  {
   "cell_type": "code",
   "execution_count": null,
   "metadata": {},
   "outputs": [],
   "source": []
  },
  {
   "cell_type": "code",
   "execution_count": null,
   "metadata": {},
   "outputs": [],
   "source": []
  },
  {
   "cell_type": "code",
   "execution_count": null,
   "metadata": {},
   "outputs": [],
   "source": []
  },
  {
   "cell_type": "code",
   "execution_count": null,
   "metadata": {},
   "outputs": [],
   "source": []
  },
  {
   "cell_type": "code",
   "execution_count": null,
   "metadata": {},
   "outputs": [],
   "source": []
  },
  {
   "cell_type": "code",
   "execution_count": null,
   "metadata": {},
   "outputs": [],
   "source": [
    "def get_majority_element(a, left, right):\n",
    "    if left == right:\n",
    "        return -1\n",
    "    if left + 1 == right:\n",
    "        return a[left]\n",
    "    #write your code here\n",
    "    return -1"
   ]
  },
  {
   "cell_type": "code",
   "execution_count": null,
   "metadata": {},
   "outputs": [],
   "source": []
  },
  {
   "cell_type": "code",
   "execution_count": null,
   "metadata": {},
   "outputs": [],
   "source": [
    "def get_majority_element(a):\n",
    "    low,high = 0,len(a)-1\n",
    "    a = sorted(a)\n",
    "    \n",
    "    res = get_majority_element_(a,low,high)\n",
    "    print(res)\n",
    "    if res==-1:\n",
    "        return 0\n",
    "    else:\n",
    "        return 1\n",
    "\n",
    "def get_majority_element_(a,low,high):\n",
    "    mid = (low+high)//2\n",
    "    print('ff')\n",
    "    \n",
    "    if high-low<=1:\n",
    "        if a[low]==a[high]:\n",
    "            return a[low]\n",
    "        else:\n",
    "            return -1\n",
    "    else:\n",
    "        res1 = get_majority_element_(a,low,mid)\n",
    "        res2 = get_majority_element_(a,mid+1,high)\n",
    "        if res1==res2 and res1!=-1:\n",
    "            return res1\n",
    "        else:\n",
    "            return -1\n",
    "    "
   ]
  },
  {
   "cell_type": "code",
   "execution_count": null,
   "metadata": {},
   "outputs": [],
   "source": [
    "a = [2,2,2,1,2,2,2,2]\n",
    "get_majority_element(a)"
   ]
  },
  {
   "cell_type": "code",
   "execution_count": null,
   "metadata": {},
   "outputs": [],
   "source": []
  },
  {
   "cell_type": "code",
   "execution_count": null,
   "metadata": {},
   "outputs": [],
   "source": []
  },
  {
   "cell_type": "code",
   "execution_count": null,
   "metadata": {},
   "outputs": [],
   "source": []
  },
  {
   "cell_type": "code",
   "execution_count": null,
   "metadata": {},
   "outputs": [],
   "source": []
  },
  {
   "cell_type": "code",
   "execution_count": null,
   "metadata": {},
   "outputs": [],
   "source": []
  },
  {
   "cell_type": "code",
   "execution_count": null,
   "metadata": {},
   "outputs": [],
   "source": []
  },
  {
   "cell_type": "code",
   "execution_count": null,
   "metadata": {},
   "outputs": [],
   "source": []
  },
  {
   "cell_type": "code",
   "execution_count": null,
   "metadata": {},
   "outputs": [],
   "source": []
  },
  {
   "cell_type": "code",
   "execution_count": null,
   "metadata": {},
   "outputs": [],
   "source": []
  },
  {
   "cell_type": "code",
   "execution_count": null,
   "metadata": {},
   "outputs": [],
   "source": []
  },
  {
   "cell_type": "code",
   "execution_count": null,
   "metadata": {},
   "outputs": [],
   "source": []
  },
  {
   "cell_type": "code",
   "execution_count": null,
   "metadata": {},
   "outputs": [],
   "source": []
  },
  {
   "cell_type": "code",
   "execution_count": null,
   "metadata": {},
   "outputs": [],
   "source": []
  },
  {
   "cell_type": "code",
   "execution_count": null,
   "metadata": {},
   "outputs": [],
   "source": []
  },
  {
   "cell_type": "code",
   "execution_count": null,
   "metadata": {},
   "outputs": [],
   "source": []
  },
  {
   "cell_type": "code",
   "execution_count": null,
   "metadata": {},
   "outputs": [],
   "source": []
  },
  {
   "cell_type": "code",
   "execution_count": null,
   "metadata": {},
   "outputs": [],
   "source": []
  },
  {
   "cell_type": "code",
   "execution_count": null,
   "metadata": {},
   "outputs": [],
   "source": []
  },
  {
   "cell_type": "code",
   "execution_count": null,
   "metadata": {},
   "outputs": [],
   "source": []
  },
  {
   "cell_type": "code",
   "execution_count": null,
   "metadata": {},
   "outputs": [],
   "source": []
  },
  {
   "cell_type": "code",
   "execution_count": null,
   "metadata": {},
   "outputs": [],
   "source": []
  },
  {
   "cell_type": "code",
   "execution_count": null,
   "metadata": {},
   "outputs": [],
   "source": []
  },
  {
   "cell_type": "code",
   "execution_count": null,
   "metadata": {},
   "outputs": [],
   "source": []
  }
 ],
 "metadata": {
  "kernelspec": {
   "display_name": "Python 3",
   "language": "python",
   "name": "python3"
  },
  "language_info": {
   "codemirror_mode": {
    "name": "ipython",
    "version": 3
   },
   "file_extension": ".py",
   "mimetype": "text/x-python",
   "name": "python",
   "nbconvert_exporter": "python",
   "pygments_lexer": "ipython3",
   "version": "3.7.1"
  }
 },
 "nbformat": 4,
 "nbformat_minor": 2
}
