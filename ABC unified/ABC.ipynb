{
 "cells": [
  {
   "cell_type": "code",
   "execution_count": null,
   "metadata": {},
   "outputs": [],
   "source": [
    "import brightway2 as bw\n",
    "import numpy as np\n",
    "import pandas as pd"
   ]
  },
  {
   "cell_type": "code",
   "execution_count": null,
   "metadata": {},
   "outputs": [],
   "source": [
    "bw.projects.set_current('ABC unified')"
   ]
  },
  {
   "cell_type": "code",
   "execution_count": null,
   "metadata": {},
   "outputs": [],
   "source": [
    "db = bw.Database('ecoinvent 3.5 cutoff')"
   ]
  },
  {
   "cell_type": "code",
   "execution_count": null,
   "metadata": {},
   "outputs": [],
   "source": [
    "act = [act for act in db if 'transport' in act['name']\n",
    "                   and 'regional' in act['name']\n",
    "                   and 'passenger train' in act['name']\n",
    "                   and 'CH' in act['location']\n",
    "][0]"
   ]
  },
  {
   "cell_type": "code",
   "execution_count": null,
   "metadata": {},
   "outputs": [],
   "source": [
    "lcia_method = ('IPCC 2013', 'climate change', 'GWP 100a')\n",
    "LCA = bw.LCA({act:1}, lcia_method)\n"
   ]
  },
  {
   "cell_type": "code",
   "execution_count": null,
   "metadata": {},
   "outputs": [],
   "source": [
    "LCA.lci()\n",
    "LCA.lcia()\n",
    "LCA.score "
   ]
  },
  {
   "cell_type": "code",
   "execution_count": null,
   "metadata": {},
   "outputs": [],
   "source": [
    "LCA.cf_params"
   ]
  },
  {
   "cell_type": "code",
   "execution_count": null,
   "metadata": {},
   "outputs": [],
   "source": []
  },
  {
   "cell_type": "markdown",
   "metadata": {},
   "source": [
    "# Results from the paper of Weidema\n",
    "https://doi.org/10.1007/s11367-017-1398-4"
   ]
  },
  {
   "cell_type": "code",
   "execution_count": null,
   "metadata": {},
   "outputs": [],
   "source": [
    "n_pr = 3 #number of processes\n",
    "n_el = 2 #number of elementary flows\n",
    "n_ch = 3 #number of number of characterization factors\n",
    "A = np.eye(n_pr)\n",
    "Bt = np.array([[0.0014,0.005,0.0006],[0.01,0.01,0.04]])\n",
    "Ct = np.array([[0.2,0.076],[1600,610],[33,0]])\n",
    "ft = np.array([1,0,0])"
   ]
  },
  {
   "cell_type": "markdown",
   "metadata": {},
   "source": [
    "### Traditional calculation"
   ]
  },
  {
   "cell_type": "code",
   "execution_count": null,
   "metadata": {},
   "outputs": [],
   "source": [
    "g = np.matmul(Ct,np.matmul(Bt,(np.matmul(np.linalg.inv(A),ft))))"
   ]
  },
  {
   "cell_type": "markdown",
   "metadata": {},
   "source": [
    "### Expanded calculation"
   ]
  },
  {
   "cell_type": "code",
   "execution_count": null,
   "metadata": {},
   "outputs": [],
   "source": [
    "n_mi = 2 #number of additional midpoints\n",
    "B = np.vstack((Bt,np.zeros([n_ch+n_mi,n_pr])))\n",
    "C = np.diag(-np.ones(n_el+n_ch+n_mi))"
   ]
  },
  {
   "cell_type": "markdown",
   "metadata": {},
   "source": [
    "### My interpretation"
   ]
  },
  {
   "cell_type": "code",
   "execution_count": null,
   "metadata": {},
   "outputs": [],
   "source": [
    "At = np.eye(3)\n",
    "At[1,0] = 0.9\n",
    "myA1 = np.vstack([A,Bt])\n",
    "myA2 = np.vstack([np.zeros([3,2]),np.diag(-np.ones(2))])\n",
    "myA  = np.hstack([myA1,myA2])\n",
    "myf  = np.hstack([ft,np.zeros(2)])"
   ]
  },
  {
   "cell_type": "code",
   "execution_count": null,
   "metadata": {},
   "outputs": [],
   "source": [
    "emissions_t = np.matmul(Bt,(np.matmul(np.linalg.inv(At),ft)))\n",
    "myemissions = np.matmul(np.linalg.inv(myA),myf)"
   ]
  },
  {
   "cell_type": "code",
   "execution_count": null,
   "metadata": {},
   "outputs": [],
   "source": [
    "emissions_t"
   ]
  },
  {
   "cell_type": "code",
   "execution_count": null,
   "metadata": {},
   "outputs": [],
   "source": [
    "myemissions"
   ]
  },
  {
   "cell_type": "code",
   "execution_count": null,
   "metadata": {},
   "outputs": [],
   "source": [
    "myA"
   ]
  },
  {
   "cell_type": "code",
   "execution_count": null,
   "metadata": {},
   "outputs": [],
   "source": [
    "A"
   ]
  },
  {
   "cell_type": "code",
   "execution_count": null,
   "metadata": {},
   "outputs": [],
   "source": []
  },
  {
   "cell_type": "code",
   "execution_count": null,
   "metadata": {},
   "outputs": [],
   "source": []
  },
  {
   "cell_type": "code",
   "execution_count": null,
   "metadata": {},
   "outputs": [],
   "source": []
  },
  {
   "cell_type": "code",
   "execution_count": null,
   "metadata": {},
   "outputs": [],
   "source": []
  },
  {
   "cell_type": "code",
   "execution_count": null,
   "metadata": {},
   "outputs": [],
   "source": [
    "def get_majority_element(a, left, right):\n",
    "    if left == right:\n",
    "        return -1\n",
    "    if left + 1 == right:\n",
    "        return a[left]\n",
    "    #write your code here\n",
    "    return -1"
   ]
  },
  {
   "cell_type": "code",
   "execution_count": null,
   "metadata": {},
   "outputs": [],
   "source": []
  },
  {
   "cell_type": "code",
   "execution_count": 260,
   "metadata": {},
   "outputs": [],
   "source": [
    "def get_majority_element(a):\n",
    "    low,high = 0,len(a)-1\n",
    "    a = sorted(a)\n",
    "    \n",
    "    res = get_majority_element_(a,low,high)\n",
    "    print(res)\n",
    "    if res==-1:\n",
    "        return 0\n",
    "    else:\n",
    "        return 1\n",
    "\n",
    "def get_majority_element_(a,low,high):\n",
    "    mid = (low+high)//2\n",
    "    print('ff')\n",
    "    \n",
    "    if high-low<=1:\n",
    "        if a[low]==a[high]:\n",
    "            return a[low]\n",
    "        else:\n",
    "            return -1\n",
    "    else:\n",
    "        res1 = get_majority_element_(a,low,mid)\n",
    "        res2 = get_majority_element_(a,mid+1,high)\n",
    "        if res1==res2 and res1!=-1:\n",
    "            return res1\n",
    "        else:\n",
    "            return -1\n",
    "    "
   ]
  },
  {
   "cell_type": "code",
   "execution_count": 263,
   "metadata": {},
   "outputs": [
    {
     "name": "stdout",
     "output_type": "stream",
     "text": [
      "ff\n",
      "ff\n",
      "ff\n",
      "ff\n",
      "ff\n",
      "ff\n",
      "ff\n",
      "-1\n"
     ]
    },
    {
     "data": {
      "text/plain": [
       "0"
      ]
     },
     "execution_count": 263,
     "metadata": {},
     "output_type": "execute_result"
    }
   ],
   "source": [
    "a = [2,2,2,1,2,2,2,2]\n",
    "get_majority_element(a)"
   ]
  },
  {
   "cell_type": "code",
   "execution_count": 265,
   "metadata": {},
   "outputs": [
    {
     "name": "stdout",
     "output_type": "stream",
     "text": [
      "3\n"
     ]
    }
   ],
   "source": [
    "for i in range(3,4):\n",
    "    print(i)"
   ]
  },
  {
   "cell_type": "code",
   "execution_count": 272,
   "metadata": {},
   "outputs": [],
   "source": [
    "import random"
   ]
  },
  {
   "cell_type": "code",
   "execution_count": 324,
   "metadata": {},
   "outputs": [],
   "source": [
    "def partition3(a, l, r):\n",
    "    x = a[l]\n",
    "    k = l #index of x\n",
    "    j = k #index of other x's that we will find\n",
    "    for i in range(l + 1, r + 1):\n",
    "        if x==a[i]:\n",
    "            j += 1\n",
    "            a[i], a[j] = a[j], a[i]\n",
    "        elif x>a[i]:\n",
    "            a.insert(0,x)\n",
    "            k += 1\n",
    "            j += 1\n",
    "            i -= 1\n",
    "    a[l], a[j] = a[j], a[l]\n",
    "    return k,j\n",
    "\n",
    "def partition2(a, l, r):\n",
    "    x = a[l]\n",
    "    j = l\n",
    "    for i in range(l + 1, r + 1):\n",
    "        if a[i] <= x:\n",
    "            j += 1\n",
    "            a[i], a[j] = a[j], a[i]\n",
    "    a[l], a[j] = a[j], a[l]\n",
    "    return j,j\n",
    "\n",
    "\n",
    "def randomized_quick_sort(a, l, r):\n",
    "    if l >= r:\n",
    "        return\n",
    "    k = random.randint(l, r)\n",
    "    a[l], a[k] = a[k], a[l]\n",
    "    #use partition3\n",
    "    m1,m2 = partition2(a, l, r)\n",
    "    randomized_quick_sort(a, l, m1 - 1)\n",
    "    randomized_quick_sort(a, m2 + 1, r)"
   ]
  },
  {
   "cell_type": "code",
   "execution_count": 337,
   "metadata": {},
   "outputs": [],
   "source": [
    "a = [5,4,6,3,7,5,2,4,1,8,5,5,1]"
   ]
  },
  {
   "cell_type": "code",
   "execution_count": 338,
   "metadata": {},
   "outputs": [],
   "source": [
    "randomized_quick_sort(a,0,len(a)-1)"
   ]
  },
  {
   "cell_type": "code",
   "execution_count": 340,
   "metadata": {},
   "outputs": [
    {
     "data": {
      "text/plain": [
       "[1, 1, 2, 3, 4, 4, 5, 5, 5, 5, 6, 7, 8]"
      ]
     },
     "execution_count": 340,
     "metadata": {},
     "output_type": "execute_result"
    }
   ],
   "source": [
    "a"
   ]
  },
  {
   "cell_type": "code",
   "execution_count": 346,
   "metadata": {},
   "outputs": [
    {
     "name": "stdout",
     "output_type": "stream",
     "text": [
      "1 1 2 3 4 4 5 5 5 5 6 7 8\n"
     ]
    }
   ],
   "source": [
    "print(*a, sep = \" \")"
   ]
  },
  {
   "cell_type": "code",
   "execution_count": 344,
   "metadata": {},
   "outputs": [
    {
     "name": "stdout",
     "output_type": "stream",
     "text": [
      "[1, 1, 2, 3, 4, 4, 5, 5, 5, 5, 6, 7, 8]\n"
     ]
    }
   ],
   "source": [
    "print(a)"
   ]
  },
  {
   "cell_type": "code",
   "execution_count": null,
   "metadata": {},
   "outputs": [],
   "source": []
  }
 ],
 "metadata": {
  "kernelspec": {
   "display_name": "Python 3",
   "language": "python",
   "name": "python3"
  },
  "language_info": {
   "codemirror_mode": {
    "name": "ipython",
    "version": 3
   },
   "file_extension": ".py",
   "mimetype": "text/x-python",
   "name": "python",
   "nbconvert_exporter": "python",
   "pygments_lexer": "ipython3",
   "version": "3.7.1"
  }
 },
 "nbformat": 4,
 "nbformat_minor": 2
}
