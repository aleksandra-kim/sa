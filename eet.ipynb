{
 "cells": [
  {
   "cell_type": "code",
   "execution_count": 8,
   "metadata": {},
   "outputs": [],
   "source": [
    "import brightway2 as bw\n",
    "import pandas as pd\n",
    "import numpy as np\n",
    "from constants import * #constants used in this project"
   ]
  },
  {
   "cell_type": "markdown",
   "metadata": {},
   "source": [
    "# Choose a project and run LCI"
   ]
  },
  {
   "cell_type": "code",
   "execution_count": 9,
   "metadata": {},
   "outputs": [],
   "source": [
    "bw.projects.set_current(\"SA\")"
   ]
  },
  {
   "cell_type": "code",
   "execution_count": 10,
   "metadata": {},
   "outputs": [
    {
     "data": {
      "text/plain": [
       "Databases dictionary with 2 object(s):\n",
       "\tbiosphere3\n",
       "\tecoinvent 3.5 cutoff"
      ]
     },
     "execution_count": 10,
     "metadata": {},
     "output_type": "execute_result"
    }
   ],
   "source": [
    "bw.databases"
   ]
  },
  {
   "cell_type": "code",
   "execution_count": 11,
   "metadata": {},
   "outputs": [],
   "source": [
    "db_name = 'ecoinvent 3.5 cutoff'\n",
    "db = bw.Database(db_name)"
   ]
  },
  {
   "cell_type": "code",
   "execution_count": 12,
   "metadata": {},
   "outputs": [],
   "source": [
    "act = db.random()\n",
    "act_amount = 1.0 #unit demand vector\n",
    "ipcc2013 = [m for m in bw.methods if 'IPCC' in m[0]\n",
    "                        and ('2013') in str(m)\n",
    "                        and 'GWP 100' in str(m)\n",
    "                        and 'no LT' not in str(m)]\n",
    "lca = bw.LCA({act:act_amount}, ipcc2013[0])\n",
    "lca.lci()\n",
    "lca.lcia()"
   ]
  },
  {
   "cell_type": "markdown",
   "metadata": {},
   "source": [
    "# EET"
   ]
  },
  {
   "cell_type": "markdown",
   "metadata": {},
   "source": [
    "## 1. create a vector tech_params identical to lca.tech_params but with an additional column for indices $1,2,...,n_{params}$ and dtype.name $i$"
   ]
  },
  {
   "cell_type": "code",
   "execution_count": 13,
   "metadata": {},
   "outputs": [],
   "source": [
    "#augmented dtype\n",
    "dt = lca.tech_params.dtype.descr\n",
    "dt.insert(0,('i','<i4'))\n",
    "dt = np.dtype(dt)\n",
    "\n",
    "#number of parameters\n",
    "n_params = lca.tech_params.shape[0]"
   ]
  },
  {
   "cell_type": "code",
   "execution_count": 14,
   "metadata": {},
   "outputs": [],
   "source": [
    "#lca.tech_params augmented with the index on the first position\n",
    "tech_params = np.zeros([n_params],dtype=dt)\n",
    "i = 0\n",
    "for x in lca.tech_params:\n",
    "    temp = list(x)\n",
    "    temp.insert(0,i)\n",
    "    tech_params[i] = tuple(temp)\n",
    "    i += 1"
   ]
  },
  {
   "cell_type": "markdown",
   "metadata": {},
   "source": [
    "## 2. Generate samples for EET"
   ]
  },
  {
   "cell_type": "markdown",
   "metadata": {},
   "source": [
    "### Generate uniformly distributed samples ($\\in [0,1]$) using SALib"
   ]
  },
  {
   "cell_type": "code",
   "execution_count": 9,
   "metadata": {},
   "outputs": [],
   "source": [
    "from SALib.sample import morris"
   ]
  },
  {
   "cell_type": "code",
   "execution_count": 8,
   "metadata": {},
   "outputs": [],
   "source": [
    "#all uncertain parameters\n",
    "params = tech_params[tech_params['uncertainty_type']!=ID_NA][:100] #TODO change this eventually\n",
    "n_vars = len(params)\n",
    "names  = [str(x) for x in params['i']]\n",
    "bounds = np.array([np.zeros(n_vars),np.ones(n_vars)]).T #Always [0,1]!\n",
    "#samples info\n",
    "n_tra = 500          #number of trajectories\n",
    "p     = 4           #number of levels, even number recommended\n",
    "delta = p/(2*(p-1)) #grid jump recommended in papers\n",
    "#problem\n",
    "problem = {\n",
    "    'num_vars':   n_vars,\n",
    "    'num_levels': p,\n",
    "    'names':      names,\n",
    "    'bounds':     bounds,\n",
    "}"
   ]
  },
  {
   "cell_type": "code",
   "execution_count": 12,
   "metadata": {},
   "outputs": [
    {
     "data": {
      "text/plain": [
       "50500"
      ]
     },
     "execution_count": 12,
     "metadata": {},
     "output_type": "execute_result"
    }
   ],
   "source": [
    "#Generate samples\n",
    "samples = morris.sample(problem, n_tra, num_levels=p)  \n",
    "N = samples.shape[0]\n",
    "N"
   ]
  },
  {
   "cell_type": "code",
   "execution_count": 7,
   "metadata": {},
   "outputs": [
    {
     "name": "stdout",
     "output_type": "stream",
     "text": [
      "(0, 5)\n",
      "(1, 5)\n",
      "(2, 6)\n",
      "(3, 6)\n",
      "(4, 7)\n"
     ]
    }
   ],
   "source": [
    "import numpy as np\n",
    "for a in enumerate(np.array([5,5,6,6,7])):\n",
    "    print(a)"
   ]
  },
  {
   "cell_type": "code",
   "execution_count": 6,
   "metadata": {},
   "outputs": [
    {
     "data": {
      "text/plain": [
       "<enumerate at 0x10e89f8b8>"
      ]
     },
     "execution_count": 6,
     "metadata": {},
     "output_type": "execute_result"
    }
   ],
   "source": []
  },
  {
   "cell_type": "markdown",
   "metadata": {},
   "source": [
    "### Convert uniform samples to original distributions"
   ]
  },
  {
   "cell_type": "code",
   "execution_count": 13,
   "metadata": {},
   "outputs": [],
   "source": [
    "from scipy.stats import lognorm, norm, triang"
   ]
  },
  {
   "cell_type": "code",
   "execution_count": 14,
   "metadata": {},
   "outputs": [],
   "source": [
    "#give dtype with names to distinguish between input factors\n",
    "data_type = [('<f4') for x in range(n_vars)]\n",
    "dt = np.array([names,data_type]).T\n",
    "dt = [tuple(x) for x in dt]\n",
    "dt = np.dtype(dt)\n",
    "\n",
    "samples_dt = np.zeros([N],dtype = dt)\n",
    "i = 0\n",
    "for x in samples:\n",
    "    temp = list(x)\n",
    "    samples_dt[i] = tuple(temp)\n",
    "    i = i+1"
   ]
  },
  {
   "cell_type": "code",
   "execution_count": 15,
   "metadata": {},
   "outputs": [],
   "source": [
    "def obtain_original_pdf(problem,params,samples_uniform,id_distr):\n",
    "    \n",
    "    inds = params[params['uncertainty_type']==id_distr]['i']\n",
    "    \n",
    "    if len(inds)<=0:\n",
    "        return np.zeros(0)\n",
    "    \n",
    "    else:\n",
    "        \n",
    "        #values corresponding to the chosen distribution\n",
    "        names = [str(x) for x in inds]\n",
    "        bounds = problem['bounds']\n",
    "        p = problem['num_levels']\n",
    "        \n",
    "        #variable to save values of the converted distributions\n",
    "        samples_conv = np.zeros_like(samples_uniform[names])\n",
    "   \n",
    "        #lognormal\n",
    "        if id_distr == ID_LG: \n",
    "            \n",
    "            #Quantiles are the same for all lognormal distributions given the level p\n",
    "            q_lo = (1-SIX_SIGMA_Q)/2\n",
    "            q_hi = (1+SIX_SIGMA_Q)/2\n",
    "            q = np.linspace(q_lo,q_hi,p)\n",
    "                        \n",
    "            for name in names:\n",
    "                \n",
    "                x = samples_uniform[name]\n",
    "                i = problem['names'].index(name)\n",
    "                \n",
    "                #new distribution\n",
    "                #in bw:            loc=mu, scale=sigma, where mu and sigma are from the normal distribution\n",
    "                #in stats.lognorm: loc=shift, s=sigma, scale=exp(mu), where mu and sigma are from the normal distribution \n",
    "                input_factor = params[params['i']==int(name)]\n",
    "                mu = input_factor['loc']\n",
    "                sigma  = input_factor['scale']\n",
    "                shift = 0\n",
    "                \n",
    "                #generate unique converted values using ppf (=inverse of cdf)\n",
    "                conv_unique = lognorm.ppf(q,s=sigma,loc=shift,scale=np.exp(mu))\n",
    "                \n",
    "                #save converted samples\n",
    "                x_list = sorted(list(set(x)))\n",
    "                for i in range(p):\n",
    "                    samples_conv[name][x==[x_list[i]]] = conv_unique[i]\n",
    "                                                                                    \n",
    "        #normal\n",
    "        elif id_distr == ID_NM:\n",
    "            \n",
    "            #Quantiles are the same for all normal distributions given the level p\n",
    "            q_lo = (1-SIX_SIGMA_Q)/2\n",
    "            q_hi = (1+SIX_SIGMA_Q)/2\n",
    "            q = np.linspace(q_lo,q_hi,p)\n",
    "            \n",
    "            for name in names:\n",
    "                \n",
    "                x = samples_uniform[name]\n",
    "                i = problem['names'].index(name)\n",
    "                \n",
    "                #new distribution\n",
    "                #in bw:         loc=mu, scale=sigma, where mu and sigma are mean and std\n",
    "                #in stats.norm: loc=mu, scale=sigma, where mu and sigma are mean and std \n",
    "                input_factor = params[params['i']==int(name)]\n",
    "                mu = input_factor['loc']\n",
    "                sigma  = input_factor['scale']\n",
    "                \n",
    "                #generate unique converted values using ppf (=inverse of cdf)\n",
    "                conv_unique = norm.ppf(q,loc=mu,scale=sigma)\n",
    "                \n",
    "                #save converted samples\n",
    "                x_list = sorted(list(set(x)))\n",
    "                for i in range(p):\n",
    "                    samples_conv[name][x==[x_list[i]]] = conv_unique[i]\n",
    "                                \n",
    "        #triangular\n",
    "        elif id_distr == ID_TR:\n",
    "            \n",
    "            q = np.linspace(0,1,p)\n",
    "            \n",
    "            for name in names:\n",
    "            \n",
    "                x = samples_uniform[name]\n",
    "                i = problem['names'].index(name)\n",
    "                \n",
    "                #new triangular distribution, convert loc, scale and c taken from \"bw\" to \"stats.triang\" definition\n",
    "                #in bw:           input_factor (or params): 'minimum' < loc' < 'maximum'\n",
    "                #in stats.triang: triangular distribution with an up-sloping line from loc to (loc + c*scale) \n",
    "                #                 and then downsloping for (loc + c*scale) to (loc+scale).\n",
    "                input_factor = params[params['i']==int(name)]\n",
    "                loc   = input_factor['minimum']\n",
    "                scale = input_factor['maximum']-input_factor['minimum']\n",
    "                c     = (input_factor['loc']-loc)/scale\n",
    "                \n",
    "                #generate unique converted values using ppf (=inverse of cdf)\n",
    "                conv_unique = triang.ppf(q,c=c,loc=loc,scale=scale)\n",
    "                \n",
    "                #save converted samples\n",
    "                x_list = sorted(list(set(x)))\n",
    "                for i in range(p):\n",
    "                    samples_conv[name][x==[x_list[i]]] = conv_unique[i]\n",
    "                                    \n",
    "        return samples_conv"
   ]
  },
  {
   "cell_type": "code",
   "execution_count": 16,
   "metadata": {},
   "outputs": [],
   "source": [
    "samples_lg = obtain_original_pdf(problem,params,samples_dt,ID_LG)\n",
    "samples_nm = obtain_original_pdf(problem,params,samples_dt,ID_NM)\n",
    "samples_tr = obtain_original_pdf(problem,params,samples_dt,ID_TR)"
   ]
  },
  {
   "cell_type": "code",
   "execution_count": 20,
   "metadata": {},
   "outputs": [
    {
     "data": {
      "text/plain": [
       "array([(16026, 4251,  7519,  4,  3272, 1, 2,  6.52124697e-07, -1.4243030e+01, 0.2251666 , nan, nan, nan, False),\n",
       "       (16027, 4251,  8499,  4,  4252, 1, 2,  1.70801731e-03, -6.3724222e+00, 0.2251666 , nan, nan, nan, False),\n",
       "       (16028, 4251,  9452,  4,  5205, 1, 2,  6.87019451e-07, -1.4190904e+01, 0.2251666 , nan, nan, nan, False),\n",
       "       (16029, 4251, 11161,  4,  6914, 1, 2,  5.24000006e-06, -1.2159189e+01, 0.2251666 , nan, nan, nan, False),\n",
       "       (16030, 4251, 16915,  4, 12668, 1, 2,  1.70811801e-03, -6.3723631e+00, 0.2251666 , nan, nan, nan, False),\n",
       "       (16031, 4251, 17181,  4, 12934, 1, 2,  5.24000006e-06, -1.2159189e+01, 0.2251666 , nan, nan, nan, False),\n",
       "       (16035, 4254, 15963,  7, 11716, 1, 2,  8.66999981e-05, -9.3530569e+00, 0.09273618, nan, nan, nan, False),\n",
       "       (16040, 4258,  8162, 11,  3915, 1, 2,  4.85763891e-08, -1.6840128e+01, 0.33559647, nan, nan, nan, False),\n",
       "       (16041, 4258, 11936, 11,  7689, 1, 2,  6.94444457e-09, -1.8785324e+01, 0.6860029 , nan, nan, nan, False),\n",
       "       (16043, 4258, 13182, 11,  8935, 1, 2,  6.94444457e-09, -1.8785324e+01, 0.6860029 , nan, nan, nan, False),\n",
       "       (16044, 4258, 13192, 11,  8945, 1, 2,  4.85763891e-08, -1.6840128e+01, 0.33559647, nan, nan, nan, False),\n",
       "       (16045, 4258, 13314, 11,  9067, 1, 2,  6.94444457e-09, -1.8785324e+01, 0.6860029 , nan, nan, nan, False),\n",
       "       (16046, 4258, 13781, 11,  9534, 1, 2,  3.38132544e-08, -1.7202414e+01, 0.23388031, nan, nan, nan, False),\n",
       "       (16047, 4258, 15993, 11, 11746, 1, 2,  3.38132544e-08, -1.7202414e+01, 0.23388031, nan, nan, nan, False),\n",
       "       (16050, 4258, 16430, 11, 12183, 1, 2,  1.59370805e-09, -2.0257202e+01, 0.23388031, nan, nan, nan, False),\n",
       "       (16051, 4258, 18679, 11, 14432, 1, 2,  1.59370805e-09, -2.0257202e+01, 0.23388031, nan, nan, nan, False),\n",
       "       (16060, 4266,  5275, 19,  1028, 1, 2, -1.55319805e+01,  2.7429011e+00, 0.2293469 , nan, nan, nan,  True),\n",
       "       (16061, 4266,  8484, 19,  4237, 1, 2, -1.81066513e-01, -1.7088908e+00, 0.20518285, nan, nan, nan,  True),\n",
       "       (16062, 4266, 10871, 19,  6624, 1, 2, -3.35826606e-01, -1.0911603e+00, 0.26944387, nan, nan, nan,  True),\n",
       "       (16063, 4266, 12592, 19,  8345, 1, 2, -5.59711039e-01, -5.8033466e-01, 0.23366643, nan, nan, nan,  True),\n",
       "       (16064, 4266, 12714, 19,  8467, 1, 2, -8.97769630e-01, -1.0784177e-01, 0.37242448, nan, nan, nan,  True),\n",
       "       (16065, 4266, 13370, 19,  9123, 1, 2, -9.37498612e-07, -1.3880051e+01, 0.10344081, nan, nan, nan,  True),\n",
       "       (16066, 4266, 14291, 19, 10044, 1, 2, -2.51869969e-02, -3.6814275e+00, 0.2720294 , nan, nan, nan,  True),\n",
       "       (16067, 4266, 14313, 19, 10066, 1, 2, -2.13809609e+00,  7.5991577e-01, 0.20518285, nan, nan, nan,  True),\n",
       "       (16068, 4266, 14332, 19, 10085, 1, 2, -8.39566533e-03, -4.7800398e+00, 0.2657066 , nan, nan, nan,  True),\n",
       "       (16069, 4266, 16752, 19, 12505, 1, 2, -9.37498612e-07, -1.3880051e+01, 0.10344081, nan, nan, nan,  True),\n",
       "       (16070, 4266, 18888, 19, 14641, 1, 2, -9.37498612e-07, -1.3880051e+01, 0.10344081, nan, nan, nan,  True),\n",
       "       (16071, 4266, 19807, 19, 15560, 1, 2, -8.39566517e+00,  2.1277156e+00, 0.26944387, nan, nan, nan,  True),\n",
       "       (16073, 4268,  4471, 21,   224, 1, 2, -1.12358822e-09, -2.0606739e+01, 0.10954451, nan, nan, nan,  True),\n",
       "       (16074, 4268,  5207, 21,   960, 1, 2, -1.14519562e-05, -1.1377350e+01, 0.10954451, nan, nan, nan,  True),\n",
       "       (16075, 4268,  8152, 21,  3905, 1, 2, -2.66156408e-09, -1.9744352e+01, 0.06652068, nan, nan, nan,  True),\n",
       "       (16077, 4268, 11772, 21,  7525, 1, 2, -5.96366023e-09, -1.8937582e+01, 0.10954451, nan, nan, nan,  True),\n",
       "       (16078, 4268, 14265, 21, 10018, 1, 2, -8.03797695e-10, -2.0941673e+01, 0.10954451, nan, nan, nan,  True),\n",
       "       (16079, 4268, 18795, 21, 14548, 1, 2, -1.92306445e-07, -1.5464175e+01, 0.10954451, nan, nan, nan,  True),\n",
       "       (16082, 4270,  8132, 23,  3885, 1, 2, -1.57679472e+01,  2.7579792e+00, 0.232379  , nan, nan, nan,  True),\n",
       "       (16084, 4270,  9984, 23,  5737, 1, 2, -4.22947254e-04, -7.7682629e+00, 0.3642801 , nan, nan, nan,  True),\n",
       "       (16085, 4270, 11136, 23,  6889, 1, 2, -3.02744575e-05, -1.0405206e+01, 0.2295648 , nan, nan, nan,  True),\n",
       "       (16088, 4270, 19243, 23, 14996, 1, 2, -6.03597016e-07, -1.4320359e+01, 0.2295648 , nan, nan, nan,  True),\n",
       "       (16091, 4272,  4272, 25,    25, 1, 2,  2.15220428e-03, -6.1412625e+00, 0.03464102, nan, nan, nan, False),\n",
       "       (16092, 4272,  8146, 25,  3899, 1, 2,  2.10732293e+00,  7.4541843e-01, 0.03464102, nan, nan, nan, False),\n",
       "       (16093, 4272, 14854, 25, 10607, 1, 2,  1.00000000e+00,  0.0000000e+00, 0.0244949 , nan, nan, nan, False),\n",
       "       (16101, 4279,  4471, 32,   224, 1, 2, -7.12713017e-08, -1.6456772e+01, 0.10954451, nan, nan, nan,  True),\n",
       "       (16102, 4279,  5207, 32,   960, 1, 2, -7.26419035e-04, -7.2273836e+00, 0.10954451, nan, nan, nan,  True),\n",
       "       (16103, 4279, 11772, 32,  7525, 1, 2, -3.78286131e-07, -1.4787615e+01, 0.10954451, nan, nan, nan,  True),\n",
       "       (16105, 4279, 14265, 32, 10018, 1, 2, -5.09863902e-08, -1.6791708e+01, 0.10954451, nan, nan, nan,  True),\n",
       "       (16106, 4279, 18795, 32, 14548, 1, 2, -1.21983567e-05, -1.1314209e+01, 0.10954451, nan, nan, nan,  True),\n",
       "       (16116, 4290,  4982, 43,   735, 1, 2,  6.33000016e-01, -4.5728487e-01, 0.20976177, nan, nan, nan, False),\n",
       "       (16117, 4290,  5001, 43,   754, 1, 2,  1.48000002e+00,  3.9204210e-01, 0.20976177, nan, nan, nan, False),\n",
       "       (16118, 4290,  5116, 43,   869, 1, 2,  1.82000005e+00,  5.9883648e-01, 0.20493902, nan, nan, nan, False),\n",
       "       (16119, 4290,  5348, 43,  1101, 1, 2,  1.48000002e+00,  3.9204210e-01, 0.20493902, nan, nan, nan, False),\n",
       "       (16120, 4290,  5419, 43,  1172, 1, 2,  9.95999992e-01, -4.0080212e-03, 0.20976177, nan, nan, nan, False),\n",
       "       (16121, 4290,  5657, 43,  1410, 1, 2,  9.31999981e-01, -7.0422463e-02, 0.20976177, nan, nan, nan, False),\n",
       "       (16122, 4290,  5716, 43,  1469, 1, 2,  1.82000005e+00,  5.9883648e-01, 0.20976177, nan, nan, nan, False),\n",
       "       (16123, 4290,  6335, 43,  2088, 1, 2,  2.16000009e+00,  7.7010822e-01, 0.20976177, nan, nan, nan, False),\n",
       "       (16124, 4290,  6337, 43,  2090, 1, 2,  9.43000019e-01, -5.8688994e-02, 0.20493902, nan, nan, nan, False),\n",
       "       (16125, 4290,  6357, 43,  2110, 1, 2,  3.28999996e+00,  1.1908876e+00, 0.20493902, nan, nan, nan, False),\n",
       "       (16126, 4290,  8207, 43,  3960, 1, 2,  2.16000009e+00,  7.7010822e-01, 0.20493902, nan, nan, nan, False),\n",
       "       (16127, 4290,  8319, 43,  4072, 1, 2,  9.43000019e-01, -5.8688994e-02, 0.20976177, nan, nan, nan, False),\n",
       "       (16128, 4290,  8810, 43,  4563, 1, 2,  2.16000009e+00,  7.7010822e-01, 0.20976177, nan, nan, nan, False),\n",
       "       (16129, 4290,  9296, 43,  5049, 1, 2,  9.43000019e-01, -5.8688994e-02, 0.20976177, nan, nan, nan, False),\n",
       "       (16130, 4290,  9869, 43,  5622, 1, 2,  1.48000002e+00,  3.9204210e-01, 0.20976177, nan, nan, nan, False),\n",
       "       (16131, 4290, 11334, 43,  7087, 1, 2,  6.33000016e-01, -4.5728487e-01, 0.20493902, nan, nan, nan, False),\n",
       "       (16132, 4290, 12573, 43,  8326, 1, 2,  9.31999981e-01, -7.0422463e-02, 0.20493902, nan, nan, nan, False),\n",
       "       (16133, 4290, 13949, 43,  9702, 1, 2,  3.75999999e+00,  1.3244189e+00, 0.20976177, nan, nan, nan, False),\n",
       "       (16134, 4290, 13952, 43,  9705, 1, 2,  3.28999996e+00,  1.1908876e+00, 0.20976177, nan, nan, nan, False),\n",
       "       (16135, 4290, 14206, 43,  9959, 1, 2,  3.75999999e+00,  1.3244189e+00, 0.20976177, nan, nan, nan, False),\n",
       "       (16136, 4290, 14353, 43, 10106, 1, 2,  9.95999992e-01, -4.0080212e-03, 0.20493902, nan, nan, nan, False),\n",
       "       (16137, 4290, 16552, 43, 12305, 1, 2,  3.75999999e+00,  1.3244189e+00, 0.20493902, nan, nan, nan, False),\n",
       "       (16138, 4290, 20238, 43, 15991, 1, 2,  1.82000005e+00,  5.9883648e-01, 0.20976177, nan, nan, nan, False),\n",
       "       (16143, 4293,  4293, 46,    46, 1, 2,  1.19999997e-01, -2.1202636e+00, 0.18062392, nan, nan, nan, False),\n",
       "       (16144, 4294,  4255, 47,     8, 1, 2,  2.99274502e-03, -5.8115644e+00, 0.01414214, nan, nan, nan, False),\n",
       "       (16148, 4295,  4264, 48,    17, 1, 2,  1.64000003e-03, -6.4130592e+00, 0.20639767, nan, nan, nan, False),\n",
       "       (16150, 4295,  5030, 48,   783, 1, 2,  3.43225338e-03, -5.6745381e+00, 0.05099019, nan, nan, nan, False),\n",
       "       (16151, 4295,  5839, 48,  1592, 1, 2,  1.19900054e-04, -9.0288525e+00, 0.05099019, nan, nan, nan, False),\n",
       "       (16152, 4295,  7866, 48,  3619, 1, 2,  1.89921993e-04, -8.5688972e+00, 0.06164414, nan, nan, nan, False),\n",
       "       (16153, 4295,  7895, 48,  3648, 1, 2,  2.83732952e-05, -1.0470062e+01, 0.05099019, nan, nan, nan, False),\n",
       "       (16156, 4295,  9757, 48,  5510, 1, 2,  5.00000024e-04, -7.6009026e+00, 0.36496577, nan, nan, nan, False),\n",
       "       (16157, 4295,  9824, 48,  5577, 1, 2,  1.00000005e-03, -6.9077554e+00, 0.23366643, nan, nan, nan, False),\n",
       "       (16158, 4295, 10719, 48,  6472, 1, 2,  3.95999989e-03, -5.5315113e+00, 0.08944272, nan, nan, nan, False),\n",
       "       (16159, 4295, 10737, 48,  6490, 1, 2,  9.51878319e-04, -6.9570732e+00, 0.05099019, nan, nan, nan, False),\n",
       "       (16160, 4295, 10884, 48,  6637, 1, 2,  1.64000003e-03, -6.4130592e+00, 0.20639767, nan, nan, nan, False),\n",
       "       (16161, 4295, 10974, 48,  6727, 1, 2,  2.64999992e-03, -5.9331956e+00, 0.23366643, nan, nan, nan, False),\n",
       "       (16162, 4295, 11347, 48,  7100, 1, 2,  1.27000001e-03, -6.6687384e+00, 0.20639767, nan, nan, nan, False),\n",
       "       (16163, 4295, 16305, 48, 12058, 1, 2,  1.27000001e-03, -6.6687384e+00, 0.20639767, nan, nan, nan, False),\n",
       "       (16165, 4295, 18073, 48, 13826, 1, 2,  4.19999985e-03, -5.4726706e+00, 0.37682888, nan, nan, nan, False),\n",
       "       (16166, 4295, 19416, 48, 15169, 1, 2,  4.01802481e-07, -1.4727305e+01, 0.05099019, nan, nan, nan, False),\n",
       "       (16167, 4295, 20015, 48, 15768, 1, 2,  5.00000024e-04, -7.6009026e+00, 0.23366643, nan, nan, nan, False),\n",
       "       (16168, 4296,  4296, 49,    49, 1, 2,  3.68333375e-03, -5.6039371e+00, 0.22538856, nan, nan, nan, False),\n",
       "       (16169, 4296,  5150, 49,   903, 1, 2,  2.21824914e-01, -1.5058669e+00, 0.5124451 , nan, nan, nan, False),\n",
       "       (16170, 4296,  6636, 49,  2389, 1, 2,  9.36357101e-05, -9.2760992e+00, 0.5124451 , nan, nan, nan, False),\n",
       "       (16171, 4296, 10055, 49,  5808, 1, 2,  1.48540001e+01,  2.6982691e+00, 0.03      , nan, nan, nan, False),\n",
       "       (16172, 4296, 10861, 49,  6614, 1, 2,  7.99849451e-01, -2.2333176e-01, 0.5124451 , nan, nan, nan, False),\n",
       "       (16173, 4296, 12199, 49,  7952, 1, 2,  2.79414076e-02, -3.5776455e+00, 0.5124451 , nan, nan, nan, False),\n",
       "       (16174, 4296, 16181, 49, 11934, 1, 2,  9.49999988e-02, -2.3538785e+00, 0.03      , nan, nan, nan, False),\n",
       "       (16175, 4296, 17890, 49, 13643, 1, 2,  9.17160709e-04, -6.9942279e+00, 0.5124451 , nan, nan, nan, False),\n",
       "       (16176, 4296, 17891, 49, 13644, 1, 2,  1.69510002e+01,  2.8303268e+00, 0.02828427, nan, nan, nan, False),\n",
       "       (16177, 4296, 19241, 49, 14994, 1, 2,  6.61208853e-03, -5.0188556e+00, 0.5124451 , nan, nan, nan, False),\n",
       "       (16179, 4298,  4398, 51,   151, 1, 2, -8.00000038e-03, -4.8283138e+00, 0.26457512, nan, nan, nan,  True),\n",
       "       (16180, 4298,  4437, 51,   190, 1, 2, -5.97741585e+01,  4.0905733e+00, 0.20149441, nan, nan, nan,  True),\n",
       "       (16181, 4298,  4722, 51,   475, 1, 2, -1.50000006e-01, -1.8971200e+00, 0.26457512, nan, nan, nan,  True)],\n",
       "      dtype=[('i', '<i4'), ('input', '<u4'), ('output', '<u4'), ('row', '<u4'), ('col', '<u4'), ('type', 'u1'), ('uncertainty_type', 'u1'), ('amount', '<f4'), ('loc', '<f4'), ('scale', '<f4'), ('shape', '<f4'), ('minimum', '<f4'), ('maximum', '<f4'), ('negative', '?')])"
      ]
     },
     "execution_count": 20,
     "metadata": {},
     "output_type": "execute_result"
    }
   ],
   "source": [
    "params"
   ]
  },
  {
   "cell_type": "code",
   "execution_count": 24,
   "metadata": {},
   "outputs": [],
   "source": [
    "A = 8.6e-10 \n",
    "B = 3.53\n",
    "C = 4.5\n",
    "x = 133000\n",
    "y = A*x**B+C"
   ]
  },
  {
   "cell_type": "code",
   "execution_count": 26,
   "metadata": {},
   "outputs": [
    {
     "data": {
      "text/plain": [
       "12166.929826419944"
      ]
     },
     "execution_count": 26,
     "metadata": {},
     "output_type": "execute_result"
    }
   ],
   "source": [
    "y/3600/24"
   ]
  },
  {
   "cell_type": "markdown",
   "metadata": {},
   "source": [
    "TODO\n",
    "\n",
    "think about the computational effort\n",
    "- how many calculations are needed for a reasonable result?\n",
    "- how much time is it?\n",
    "\n",
    "combine samples together and run morris.analyze\n"
   ]
  },
  {
   "cell_type": "markdown",
   "metadata": {},
   "source": [
    "### Run Morris"
   ]
  },
  {
   "cell_type": "code",
   "execution_count": null,
   "metadata": {},
   "outputs": [],
   "source": []
  },
  {
   "cell_type": "markdown",
   "metadata": {},
   "source": [
    "#### Simple 2 variable example to check distributions"
   ]
  },
  {
   "cell_type": "code",
   "execution_count": null,
   "metadata": {},
   "outputs": [],
   "source": [
    "from SALib.sample import morris\n",
    "from scipy.stats import lognorm, norm, triang\n",
    "import numpy as np\n",
    "import matplotlib.pyplot as plt\n",
    "from constants import *"
   ]
  },
  {
   "cell_type": "code",
   "execution_count": null,
   "metadata": {},
   "outputs": [],
   "source": [
    "n_vars = 2\n",
    "names = ['x1','x2']\n",
    "bounds = [[0,1],[0,7]]\n",
    "problem = {\n",
    "    'num_vars': n_vars,\n",
    "    'names':    names,\n",
    "    'bounds':   bounds\n",
    "}\n",
    "n_tra = 1000\n",
    "p = 1000\n",
    "samples = morris.sample(problem, N=n_tra, num_levels=p)\n",
    "N = samples.shape"
   ]
  },
  {
   "cell_type": "code",
   "execution_count": null,
   "metadata": {},
   "outputs": [],
   "source": [
    "ind = 1\n",
    "x = samples[:,ind]\n",
    "#old uniform distribution\n",
    "width = bounds[ind][1]-bounds[ind][0]"
   ]
  },
  {
   "cell_type": "code",
   "execution_count": null,
   "metadata": {},
   "outputs": [],
   "source": [
    "set(x)"
   ]
  },
  {
   "cell_type": "code",
   "execution_count": null,
   "metadata": {},
   "outputs": [],
   "source": [
    "#1. Lognormal\n",
    "\n",
    "#convert x to percentages q\n",
    "q = [xx*SIX_SIGMA_Q/width+(1-SIX_SIGMA_Q)/2 for xx in x]\n",
    "#new lognormal\n",
    "mu = 0\n",
    "sigma = 0.5\n",
    "shift = 0\n",
    "#Converted samples generated using ppf (=inverse of cdf)\n",
    "y = lognorm.ppf(q,s=sigma,loc=shift,scale=np.exp(mu))\n",
    "\n",
    "fig = plt.hist(y,50)"
   ]
  },
  {
   "cell_type": "code",
   "execution_count": null,
   "metadata": {},
   "outputs": [],
   "source": [
    "#2. Normal\n",
    "#convert x to percentages q\n",
    "q = [xx*SIX_SIGMA_Q/width+(1-SIX_SIGMA_Q)/2 for xx in x]\n",
    "#ql = 0.0015\n",
    "#qu = 0.9985\n",
    "#q = [max(qq,ql) for qq in q]\n",
    "#q = [min(qq,qu) for qq in q]\n",
    "#new normal\n",
    "mu = 0\n",
    "sigma = 0.5 \n",
    "#Converted samples generated using ppf (=inverse of cdf)\n",
    "y = norm.ppf(q,loc=mu,scale=sigma)\n",
    "\n",
    "fig = plt.hist(y,150,density=1)"
   ]
  },
  {
   "cell_type": "code",
   "execution_count": null,
   "metadata": {},
   "outputs": [],
   "source": [
    "#3. Triangular\n",
    "#convert x to percentages q\n",
    "q = [xx/width for xx in x]\n",
    "#new triangular\n",
    "loc   = 0.01\n",
    "scale = 0.11\n",
    "c     = 0.9\n",
    "#Converted samples generated using ppf (=inverse of cdf)\n",
    "y = triang.ppf(q,c=c,loc=loc,scale=scale)\n",
    "\n",
    "fig = plt.hist(y,150,density=1)"
   ]
  },
  {
   "cell_type": "code",
   "execution_count": null,
   "metadata": {},
   "outputs": [],
   "source": []
  },
  {
   "cell_type": "code",
   "execution_count": null,
   "metadata": {},
   "outputs": [],
   "source": []
  },
  {
   "cell_type": "code",
   "execution_count": null,
   "metadata": {},
   "outputs": [],
   "source": []
  },
  {
   "cell_type": "code",
   "execution_count": null,
   "metadata": {},
   "outputs": [],
   "source": []
  },
  {
   "cell_type": "code",
   "execution_count": null,
   "metadata": {},
   "outputs": [],
   "source": []
  },
  {
   "cell_type": "code",
   "execution_count": null,
   "metadata": {},
   "outputs": [],
   "source": []
  },
  {
   "cell_type": "code",
   "execution_count": null,
   "metadata": {},
   "outputs": [],
   "source": []
  },
  {
   "cell_type": "code",
   "execution_count": null,
   "metadata": {},
   "outputs": [],
   "source": [
    "from scipy.integrate import quad\n",
    "from math import pi, exp, log\n",
    "from scipy.stats import norm, triang, lognorm\n",
    "import matplotlib.pyplot as plt"
   ]
  },
  {
   "cell_type": "code",
   "execution_count": null,
   "metadata": {},
   "outputs": [],
   "source": [
    "#TODO determine 6 sigma for lognormal\n",
    "s = 1\n",
    "m = 0\n",
    "#quad(lambda x: 1/np.sqrt(2*pi*s**2)*exp(-(x-m)**2/(2*s**2)),-3*s, 3*s)\n",
    "quad(lambda x: 1/np.sqrt(2*pi*(s**2)*(x**2))*exp(-(log(x)-m)**2/(2*(s**2))),0,4*s)"
   ]
  },
  {
   "cell_type": "code",
   "execution_count": null,
   "metadata": {},
   "outputs": [],
   "source": [
    "fig, ax = plt.subplots(1, 1)\n",
    "x = samples_dt['19640']\n",
    "c = 0.8\n",
    "loc = 0\n",
    "scale = 1\n",
    "ax.plot(x, norm.pdf(x),'r-', lw=5, alpha=0.6, label='triang pdf')\n",
    "plt.show()"
   ]
  },
  {
   "cell_type": "code",
   "execution_count": null,
   "metadata": {},
   "outputs": [],
   "source": []
  },
  {
   "cell_type": "code",
   "execution_count": null,
   "metadata": {},
   "outputs": [],
   "source": []
  },
  {
   "cell_type": "code",
   "execution_count": null,
   "metadata": {},
   "outputs": [],
   "source": []
  },
  {
   "cell_type": "code",
   "execution_count": null,
   "metadata": {},
   "outputs": [],
   "source": []
  },
  {
   "cell_type": "code",
   "execution_count": null,
   "metadata": {},
   "outputs": [],
   "source": []
  },
  {
   "cell_type": "code",
   "execution_count": null,
   "metadata": {},
   "outputs": [],
   "source": []
  },
  {
   "cell_type": "code",
   "execution_count": null,
   "metadata": {},
   "outputs": [],
   "source": []
  },
  {
   "cell_type": "code",
   "execution_count": null,
   "metadata": {},
   "outputs": [],
   "source": []
  },
  {
   "cell_type": "code",
   "execution_count": null,
   "metadata": {},
   "outputs": [],
   "source": []
  },
  {
   "cell_type": "code",
   "execution_count": null,
   "metadata": {},
   "outputs": [],
   "source": []
  },
  {
   "cell_type": "code",
   "execution_count": null,
   "metadata": {},
   "outputs": [],
   "source": []
  },
  {
   "cell_type": "code",
   "execution_count": null,
   "metadata": {},
   "outputs": [],
   "source": []
  },
  {
   "cell_type": "code",
   "execution_count": null,
   "metadata": {},
   "outputs": [],
   "source": []
  },
  {
   "cell_type": "code",
   "execution_count": null,
   "metadata": {},
   "outputs": [],
   "source": []
  },
  {
   "cell_type": "code",
   "execution_count": null,
   "metadata": {},
   "outputs": [],
   "source": []
  },
  {
   "cell_type": "code",
   "execution_count": null,
   "metadata": {},
   "outputs": [],
   "source": []
  },
  {
   "cell_type": "markdown",
   "metadata": {},
   "source": [
    "## 3. Run LCI and LCIA with tech_params with new samples"
   ]
  },
  {
   "cell_type": "code",
   "execution_count": null,
   "metadata": {
    "scrolled": false
   },
   "outputs": [],
   "source": [
    "#Create new vector \"amounts\" of size n_params but with new sampled values\n",
    "amount = lca.tech_params['amount']\n",
    "score = np.zeros(N)\n",
    "i = 0\n",
    "for x in samples:\n",
    "    if not (i % 50):\n",
    "        print(i)\n",
    "    amount[all_triang['i']] = x\n",
    "    lca.tech_params['amount'] = amount\n",
    "    lca.rebuild_technosphere_matrix(lca.tech_params['amount'])\n",
    "    lca.redo_lci()\n",
    "    lca.redo_lcia()\n",
    "    score[i] = lca.score\n",
    "    i += 1"
   ]
  },
  {
   "cell_type": "code",
   "execution_count": null,
   "metadata": {},
   "outputs": [],
   "source": []
  },
  {
   "cell_type": "code",
   "execution_count": null,
   "metadata": {},
   "outputs": [],
   "source": []
  },
  {
   "cell_type": "code",
   "execution_count": null,
   "metadata": {},
   "outputs": [],
   "source": []
  },
  {
   "cell_type": "code",
   "execution_count": null,
   "metadata": {},
   "outputs": [],
   "source": [
    "#Create new vector \"amounts\" of size n_params but with new sampled values\n",
    "amount = lca.tech_params['amount']\n",
    "score = np.zeros(N)\n",
    "i = 0\n",
    "amount[all_triang['i']] = samples[90]\n",
    "lca.tech_params['amount'] = amount\n",
    "lca.rebuild_technosphere_matrix(lca.tech_params['amount'])\n",
    "lca.redo_lci()\n",
    "lca.redo_lcia()\n",
    "#score[i] = lca.score\n",
    "#i += 1\n",
    "lca.score"
   ]
  },
  {
   "cell_type": "code",
   "execution_count": null,
   "metadata": {},
   "outputs": [],
   "source": [
    "samples[90]"
   ]
  },
  {
   "cell_type": "code",
   "execution_count": null,
   "metadata": {},
   "outputs": [],
   "source": [
    "from scipy.stats.distributions import norm"
   ]
  },
  {
   "cell_type": "code",
   "execution_count": null,
   "metadata": {},
   "outputs": [],
   "source": [
    "norm?"
   ]
  },
  {
   "cell_type": "code",
   "execution_count": null,
   "metadata": {},
   "outputs": [],
   "source": []
  },
  {
   "cell_type": "code",
   "execution_count": null,
   "metadata": {},
   "outputs": [],
   "source": [
    "score"
   ]
  },
  {
   "cell_type": "code",
   "execution_count": null,
   "metadata": {},
   "outputs": [],
   "source": [
    "from matplotlib.pyplot import hist"
   ]
  },
  {
   "cell_type": "code",
   "execution_count": null,
   "metadata": {},
   "outputs": [],
   "source": [
    "hist()"
   ]
  },
  {
   "cell_type": "code",
   "execution_count": null,
   "metadata": {},
   "outputs": [],
   "source": []
  },
  {
   "cell_type": "code",
   "execution_count": null,
   "metadata": {},
   "outputs": [],
   "source": []
  },
  {
   "cell_type": "code",
   "execution_count": null,
   "metadata": {},
   "outputs": [],
   "source": []
  },
  {
   "cell_type": "code",
   "execution_count": null,
   "metadata": {},
   "outputs": [],
   "source": []
  },
  {
   "cell_type": "markdown",
   "metadata": {},
   "source": [
    "# [12.10.2018] Elementary effect method"
   ]
  },
  {
   "cell_type": "code",
   "execution_count": null,
   "metadata": {},
   "outputs": [],
   "source": [
    "Si = morris.analyze(problem, X, Y, conf_level=0.95, print_to_console=True, num_levels=4, grid_jump=2)"
   ]
  },
  {
   "cell_type": "code",
   "execution_count": null,
   "metadata": {},
   "outputs": [],
   "source": []
  },
  {
   "cell_type": "code",
   "execution_count": null,
   "metadata": {},
   "outputs": [],
   "source": []
  },
  {
   "cell_type": "code",
   "execution_count": null,
   "metadata": {},
   "outputs": [],
   "source": []
  },
  {
   "cell_type": "code",
   "execution_count": null,
   "metadata": {},
   "outputs": [],
   "source": []
  },
  {
   "cell_type": "code",
   "execution_count": null,
   "metadata": {},
   "outputs": [],
   "source": [
    "uncertain_params = lca.tech_params\n",
    "\n",
    "def formulate_salib_problem(uncertain_params):\n",
    "    \n",
    "    stats_array_2_salib(uncertain_params)\n",
    "    \n",
    "    num_vars = len(uncertain_params)\n",
    "    \n",
    "    #Assign names to all tech_params according to their matrix position\n",
    "    names = [str(x) for x in range(num_vars)]\n",
    "    \n",
    "    bounds = []\n",
    "    \n",
    "    return num_vars, names, bounds"
   ]
  },
  {
   "cell_type": "code",
   "execution_count": null,
   "metadata": {},
   "outputs": [],
   "source": []
  },
  {
   "cell_type": "code",
   "execution_count": null,
   "metadata": {},
   "outputs": [],
   "source": []
  },
  {
   "cell_type": "code",
   "execution_count": null,
   "metadata": {},
   "outputs": [],
   "source": []
  },
  {
   "cell_type": "code",
   "execution_count": null,
   "metadata": {},
   "outputs": [],
   "source": []
  },
  {
   "cell_type": "code",
   "execution_count": null,
   "metadata": {},
   "outputs": [],
   "source": [
    "from math import exp, sqrt"
   ]
  },
  {
   "cell_type": "code",
   "execution_count": null,
   "metadata": {},
   "outputs": [],
   "source": [
    "def stats_array_2_salib(vec):\n",
    "    \"\"\"\n",
    "    Function that converts uncertainty info from stats_array format to salib format\n",
    "    \n",
    "    stats_array format: https://stats-arrays.readthedocs.io/en/latest/index.html#params-array\n",
    "    salib format: https://github.com/SALib/SALib/blob/master/SALib/util/__init__.py\n",
    "    \"\"\"\n",
    "    \n",
    "    #IDs from stats_array\n",
    "    id_uniform = 4\n",
    "    id_triang = 5\n",
    "    id_normal = 3\n",
    "    id_lognorm = 2\n",
    "    \n",
    "    #Uniform\n",
    "    if vec['uncertainty_type'] == id_uniform:\n",
    "        dists = ['unif', vec['minimum'], vec['maximum']]\n",
    "    #Triangular\n",
    "    elif vec['uncertainty_type'] == id_triang:\n",
    "        width = vec['maximum']-vec['minimum']\n",
    "        peak = (vec['loc']-vec['minimum'])/float(width)\n",
    "        dists = ['triang', width, peak, vec['minimum']]\n",
    "    #Normal\n",
    "    elif vec['uncertainty_type'] == id_normal:\n",
    "        dists = ['norm', vec['loc'], vec['scale']]\n",
    "    #Lognormal\n",
    "    elif ['uncertainty_type'] == id_lognorm:\n",
    "        m = vec['loc']   #mean of the underlying normal distribution\n",
    "        s = vec['scale'] #std  of the underlying normal distribution\n",
    "        ln_mean = exp(m + s**2/2)\n",
    "        ln_std = sqrt((exp(s**2)-1)*exp(2*m+s**2))\n",
    "        dists = ['lognorm', ln_mean, ln_std]\n",
    "    else:\n",
    "        dists = []\n",
    "        \n",
    "    return dists\n",
    "    "
   ]
  },
  {
   "cell_type": "code",
   "execution_count": null,
   "metadata": {},
   "outputs": [],
   "source": [
    "def stats_array_2_salib_all(vecs):\n",
    "    for x in vecs:\n",
    "        #Create a dictionary with tech_params and uncertainty info on them\n",
    "        if x[6] ~= 0:\n",
    "            "
   ]
  },
  {
   "cell_type": "code",
   "execution_count": null,
   "metadata": {},
   "outputs": [],
   "source": [
    "stats_array_2_salib(lca.tech_params[16026])"
   ]
  },
  {
   "cell_type": "code",
   "execution_count": null,
   "metadata": {},
   "outputs": [],
   "source": [
    "s = 0\n",
    "for i in range(lca.tech_params.shape[0]):\n",
    "    #Create a dictionary with tech_params and uncertainty info on them\n",
    "    if lca.tech_params[i][5] == 5:\n",
    "        s+=1\n",
    "print(s)"
   ]
  },
  {
   "cell_type": "code",
   "execution_count": null,
   "metadata": {},
   "outputs": [],
   "source": [
    "lca.tech_params[16026][]"
   ]
  },
  {
   "cell_type": "code",
   "execution_count": null,
   "metadata": {},
   "outputs": [],
   "source": []
  },
  {
   "cell_type": "code",
   "execution_count": null,
   "metadata": {},
   "outputs": [],
   "source": []
  },
  {
   "cell_type": "code",
   "execution_count": null,
   "metadata": {},
   "outputs": [],
   "source": []
  },
  {
   "cell_type": "code",
   "execution_count": null,
   "metadata": {},
   "outputs": [],
   "source": []
  },
  {
   "cell_type": "markdown",
   "metadata": {},
   "source": [
    "# For the given demand vector run Monte Carlo simulations"
   ]
  },
  {
   "cell_type": "code",
   "execution_count": null,
   "metadata": {},
   "outputs": [],
   "source": [
    "import stats_arrays as st"
   ]
  },
  {
   "cell_type": "code",
   "execution_count": null,
   "metadata": {},
   "outputs": [],
   "source": [
    "#First local MC, only change A[1,2681]\n",
    "for j in range(len(act_lci.tech_params)):\n",
    "    if ((act_lci.tech_params[j][\"row\"]==1) and (act_lci.tech_params[j][\"col\"]==2681)):\n",
    "        break\n",
    "index = j\n",
    "A_1_2681 = act_lci.tech_params[index]\n",
    "#Specify distribution parameters (as they are given by ecoinvent)\n",
    "A_1_2681_params = {key:value for (key,value) in zip(A_1_2681.dtype.names,A_1_2681)}"
   ]
  },
  {
   "cell_type": "code",
   "execution_count": null,
   "metadata": {},
   "outputs": [],
   "source": [
    "#random number generator\n",
    "A_1_2681_gen = st.MCRandomNumberGenerator(st.UncertaintyBase.from_dicts(A_1_2681_params))"
   ]
  },
  {
   "cell_type": "code",
   "execution_count": null,
   "metadata": {},
   "outputs": [],
   "source": [
    "#number of MC simulations\n",
    "N = 10\n",
    "samples = np.zeros(N)\n",
    "supply  = np.zeros((N,act_lci.inventory.shape[0]))\n",
    "for i in range(N):\n",
    "    samples[i] = next(A_1_2681_gen)\n",
    "    temp = copy.deepcopy(act_lci.tech_params[:][\"amount\"])\n",
    "    temp[index] = samples[i]\n",
    "    act_lci.rebuild_technosphere_matrix(temp)\n",
    "    act_lci.redo_lci()\n",
    "    supply[i,:] = np.sum(act_lci.inventory,axis=1).A1"
   ]
  },
  {
   "cell_type": "code",
   "execution_count": null,
   "metadata": {},
   "outputs": [],
   "source": [
    "#First order sensitivity indices\n",
    "si_first = np.var(samples)/np.var(supply)\n",
    "#si_total = "
   ]
  },
  {
   "cell_type": "code",
   "execution_count": null,
   "metadata": {},
   "outputs": [],
   "source": []
  },
  {
   "cell_type": "code",
   "execution_count": null,
   "metadata": {},
   "outputs": [],
   "source": []
  }
 ],
 "metadata": {
  "kernelspec": {
   "display_name": "Python 3",
   "language": "python",
   "name": "python3"
  },
  "language_info": {
   "codemirror_mode": {
    "name": "ipython",
    "version": 3
   },
   "file_extension": ".py",
   "mimetype": "text/x-python",
   "name": "python",
   "nbconvert_exporter": "python",
   "pygments_lexer": "ipython3",
   "version": "3.7.0"
  }
 },
 "nbformat": 4,
 "nbformat_minor": 2
}
